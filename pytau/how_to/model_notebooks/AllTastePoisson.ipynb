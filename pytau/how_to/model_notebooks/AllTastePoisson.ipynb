{
    "cells": [
        {
            "cell_type": "markdown",
            "metadata": {},
            "source": [
                "# AllTastePoisson Model Demo\n",
                "\n",
                "This notebook demonstrates the usage of the AllTastePoisson model with dummy data."
            ]
        },
        {
            "cell_type": "code",
            "execution_count": null,
            "metadata": {},
            "outputs": [],
            "source": [
                "import numpy as np\n",
                "# Try to import matplotlib, create dummy if not available\n",
                "try:\n",
                "    import matplotlib.pyplot as plt\n",
                "except ImportError:\n",
                "    print('matplotlib not available - creating dummy plt object')\n",
                "    class DummyPlt:\n",
                "        def __getattr__(self, name):\n",
                "            def dummy_func(*args, **kwargs):\n",
                "                pass\n",
                "            return dummy_func\n",
                "    plt = DummyPlt()\n",
                "import sys\n",
                "import os\n",
                "\n",
                "# Add pytau to path\n",
                "sys.path.append(os.path.join(os.path.dirname(os.getcwd()), '..', '..'))\n",
                "\n",
                "from pytau.changepoint_model import AllTastePoisson, gen_test_array"
            ]
        },
        {
            "cell_type": "markdown",
            "metadata": {},
            "source": [
                "## Generate Test Data"
            ]
        },
        {
            "cell_type": "code",
            "execution_count": null,
            "metadata": {},
            "outputs": [],
            "source": [
                "# Generate dummy data with obvious changepoints for multi-taste Poisson model\n",
                "np.random.seed(42)\n",
                "n_states = 3\n",
                "n_tastes = 4  # Multiple tastes\n",
                "n_trials = 10\n",
                "n_neurons = 5\n",
                "n_time = 100\n",
                "\n",
                "# Create data with obvious state transitions in firing rates\n",
                "# Different base rates for different tastes\n",
                "taste_base_rates = [3.0, 4.0, 2.5, 5.0]  # Base rate for each taste\n",
                "# State multipliers (same pattern across tastes)\n",
                "state_multipliers = [0.5, 2.0, 1.2]  # Low, high, medium relative to base\n",
                "transition_points = [33, 66]  # Clear transition points\n",
                "\n",
                "test_data = np.zeros((n_tastes, n_trials, n_neurons, n_time), dtype=int)\n",
                "for taste in range(n_tastes):\n",
                "    base_rate = taste_base_rates[taste]\n",
                "    state_rates = [base_rate * mult for mult in state_multipliers]\n",
                "    \n",
                "    for trial in range(n_trials):\n",
                "        # Add some trial-to-trial variability in transition points\n",
                "        trial_transitions = [t + np.random.randint(-3, 4) for t in transition_points]\n",
                "        trial_transitions = [max(5, min(n_time-5, t)) for t in trial_transitions]  # Keep within bounds\n",
                "        \n",
                "        for neuron in range(n_neurons):\n",
                "            # Add some neuron-specific variability to rates\n",
                "            neuron_rates = [r * (0.7 + 0.6 * np.random.random()) for r in state_rates]\n",
                "            \n",
                "            # Generate data for each state\n",
                "            test_data[taste, trial, neuron, :trial_transitions[0]] = np.random.poisson(neuron_rates[0], trial_transitions[0])\n",
                "            test_data[taste, trial, neuron, trial_transitions[0]:trial_transitions[1]] = np.random.poisson(neuron_rates[1], trial_transitions[1] - trial_transitions[0])\n",
                "            test_data[taste, trial, neuron, trial_transitions[1]:] = np.random.poisson(neuron_rates[2], n_time - trial_transitions[1])\n",
                "\n",
                "print(f\"Generated test data shape: {test_data.shape}\")\n",
                "print(f\"Data range: [{test_data.min()}, {test_data.max()}]\")\n",
                "print(f\"Data type: {test_data.dtype}\")\n",
                "print(f\"Taste base rates: {taste_base_rates}\")\n",
                "print(f\"State multipliers: {state_multipliers}\")\n",
                "print(f\"Transition points (approx): {transition_points}\")"
            ]
        },
        {
            "cell_type": "markdown",
            "metadata": {},
            "source": [
                "## Initialize and Fit Model"
            ]
        },
        {
            "cell_type": "code",
            "execution_count": null,
            "metadata": {},
            "outputs": [],
            "source": [
                "# Initialize model\n",
                "model = AllTastePoisson(\n",
                "    data_array=test_data,\n",
                "    n_states=n_states,\n",
                "    fit_type='vi'\n",
                ")\n",
                "\n",
                "# Generate the PyMC model\n",
                "model.generate_model()\n",
                "print(\"Model generated successfully\")"
            ]
        },
        {
            "cell_type": "markdown",
            "metadata": {},
            "source": [
                "## Run Model Test"
            ]
        },
        {
            "cell_type": "code",
            "execution_count": null,
            "metadata": {},
            "outputs": [],
            "source": [
                "# Test the model\n",
                "try:\n",
                "    model.test()\n",
                "    print(\"Model test completed successfully\")\n",
                "except Exception as e:\n",
                "    print(f\"Model test failed: {e}\")"
            ]
        },
        {
            "cell_type": "markdown",
            "metadata": {},
            "source": [
                "## Visualize Input Data"
            ]
        },
        {
            "cell_type": "code",
            "execution_count": null,
            "metadata": {},
            "outputs": [],
            "source": [
                "# Plot the input data for all tastes\n",
                "fig, axes = plt.subplots(2, 2, figsize=(15, 10))\n",
                "axes = axes.flatten()\n",
                "\n",
                "for taste_idx in range(min(4, n_tastes)):\n",
                "    # Plot average across trials for each taste\n",
                "    taste_data = test_data[taste_idx].mean(axis=0)  # Average across trials\n",
                "    axes[taste_idx].plot(taste_data, 'o-', markersize=3)\n",
                "    axes[taste_idx].set_title(f'Taste {taste_idx + 1} - Average Response')\n",
                "    axes[taste_idx].set_xlabel('Time')\n",
                "    axes[taste_idx].set_ylabel('Count')\n",
                "    axes[taste_idx].grid(True, alpha=0.3)\n",
                "\n",
                "plt.tight_layout()\n",
                "plt.show()\n",
                "\n",
                "# Plot overall distribution\n",
                "plt.figure(figsize=(10, 6))\n",
                "plt.hist(test_data.flatten(), bins=range(int(test_data.max())+2), alpha=0.7, edgecolor='black')\n",
                "plt.title('Overall Count Distribution Across All Tastes')\n",
                "plt.xlabel('Count')\n",
                "plt.ylabel('Frequency')\n",
                "plt.grid(True, alpha=0.3)\n",
                "plt.show()"
            ]
        },
        {
            "cell_type": "markdown",
            "metadata": {},
            "source": [
                "## Summary\n",
                "\n",
                "This notebook demonstrated:\n",
                "1. Generating dummy Poisson count data for multiple tastes\n",
                "2. Initializing the AllTastePoisson model\n",
                "3. Running model tests\n",
                "4. Visualizing the input data across different tastes\n",
                "\n",
                "The AllTastePoisson model is designed for detecting changepoints in Poisson count data across multiple taste conditions simultaneously."
            ]
        }
    ],
    "metadata": {
        "kernelspec": {
            "display_name": "Python 3",
            "language": "python",
            "name": "python3"
        },
        "language_info": {
            "codemirror_mode": {
                "name": "ipython",
                "version": 3
            },
            "file_extension": ".py",
            "mimetype": "text/x-python",
            "name": "python",
            "nbconvert_exporter": "python",
            "pygments_lexer": "ipython3",
            "version": "3.10.0"
        }
    },
    "nbformat": 4,
    "nbformat_minor": 4
}
