{
 "cells": [
  {
   "cell_type": "markdown",
   "metadata": {},
   "source": [
    "# GaussianChangepointMeanDirichlet Model Demo\n",
    "\n",
    "This notebook demonstrates the usage of the GaussianChangepointMeanDirichlet model with dummy data."
   ]
  },
  {
   "cell_type": "code",
   "execution_count": null,
   "metadata": {},
   "outputs": [],
   "source": [
    "import numpy as np\n",
    "import matplotlib.pyplot as plt\n",
    "import sys\n",
    "import os\n",
    "\n",
    "# Add pytau to path\n",
    "sys.path.append(os.path.join(os.path.dirname(os.getcwd()), '..', '..'))\n",
    "\n",
    "from pytau.changepoint_model import GaussianChangepointMeanDirichlet, gen_test_array"
   ]
  },
  {
   "cell_type": "markdown",
   "metadata": {},
   "source": [
    "## Generate Test Data"
   ]
  },
  {
   "cell_type": "code",
   "execution_count": null,
   "metadata": {},
   "outputs": [],
   "source": [
    "# Generate dummy data for Gaussian model\n",
    "np.random.seed(42)\n",
    "array_size = (10, 100)  # (trials, time)\n",
    "n_states = 3\n",
    "\n",
    "# Generate test array with Gaussian data\n",
    "test_data = gen_test_array(array_size, n_states, type=\"normal\")\n",
    "print(f\"Generated test data shape: {test_data.shape}\")\n",
    "print(f\"Data range: [{test_data.min():.2f}, {test_data.max():.2f}]\")"
   ]
  },
  {
   "cell_type": "markdown",
   "metadata": {},
   "source": [
    "## Initialize and Fit Model"
   ]
  },
  {
   "cell_type": "code",
   "execution_count": null,
   "metadata": {},
   "outputs": [],
   "source": [
    "# Initialize model\n",
    "model = GaussianChangepointMeanDirichlet(\n",
    "    data_array=test_data,\n",
    "    n_states=n_states,\n",
    "    fit_type='vi'\n",
    ")\n",
    "\n",
    "# Generate the PyMC model\n",
    "model.generate_model()\n",
    "print(\"Model generated successfully\")"
   ]
  },
  {
   "cell_type": "markdown",
   "metadata": {},
   "source": [
    "## Run Model Test"
   ]
  },
  {
   "cell_type": "code",
   "execution_count": null,
   "metadata": {},
   "outputs": [],
   "source": [
    "# Test the model\n",
    "try:\n",
    "    model.test()\n",
    "    print(\"Model test completed successfully\")\n",
    "except Exception as e:\n",
    "    print(f\"Model test failed: {e}\")"
   ]
  },
  {
   "cell_type": "markdown",
   "metadata": {},
   "source": [
    "## Visualize Input Data"
   ]
  },
  {
   "cell_type": "code",
   "execution_count": null,
   "metadata": {},
   "outputs": [],
   "source": [
    "# Plot the input data\n",
    "plt.figure(figsize=(12, 6))\n",
    "\n",
    "# Plot time series\n",
    "plt.subplot(1, 2, 1)\n",
    "plt.plot(test_data.flatten())\n",
    "plt.title('Input Time Series Data')\n",
    "plt.xlabel('Time')\n",
    "plt.ylabel('Value')\n",
    "plt.grid(True, alpha=0.3)\n",
    "\n",
    "# Plot histogram\n",
    "plt.subplot(1, 2, 2)\n",
    "plt.hist(test_data.flatten(), bins=30, alpha=0.7, edgecolor='black')\n",
    "plt.title('Data Distribution')\n",
    "plt.xlabel('Value')\n",
    "plt.ylabel('Frequency')\n",
    "plt.grid(True, alpha=0.3)\n",
    "\n",
    "plt.tight_layout()\n",
    "plt.show()"
   ]
  },
  {
   "cell_type": "markdown",
   "metadata": {},
   "source": [
    "## Summary\n",
    "\n",
    "This notebook demonstrated:\n",
    "1. Generating dummy Gaussian data\n",
    "2. Initializing the GaussianChangepointMeanDirichlet model\n",
    "3. Running model tests\n",
    "4. Visualizing the input data\n",
    "\n",
    "The GaussianChangepointMeanDirichlet model uses a Dirichlet prior for changepoint probabilities in Gaussian data."
   ]
  }
 ],
 "metadata": {
  "kernelspec": {
   "display_name": "Python 3",
   "language": "python",
   "name": "python3"
  },
  "language_info": {
   "codemirror_mode": {
    "name": "ipython",
    "version": 3
   },
   "file_extension": ".py",
   "mimetype": "text/x-python",
   "name": "python",
   "nbconvert_exporter": "python",
   "pygments_lexer": "ipython3",
   "version": "3.10.0"
  }
 },
 "nbformat": 4,
 "nbformat_minor": 4
}