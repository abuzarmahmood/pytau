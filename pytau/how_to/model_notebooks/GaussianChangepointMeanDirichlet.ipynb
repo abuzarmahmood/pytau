{
    "cells": [
        {
            "cell_type": "markdown",
            "metadata": {},
            "source": [
                "# GaussianChangepointMeanDirichlet Model Demo\n",
                "\n",
                "This notebook demonstrates the usage of the GaussianChangepointMeanDirichlet model with dummy data."
            ]
        },
        {
            "cell_type": "code",
            "execution_count": null,
            "metadata": {},
            "outputs": [],
            "source": [
                "import numpy as np\n",
                "# Try to import matplotlib, create dummy if not available\n",
                "try:\n",
                "    import matplotlib.pyplot as plt\n",
                "except ImportError:\n",
                "    print('matplotlib not available - creating dummy plt object')\n",
                "    class DummyPlt:\n",
                "        def __getattr__(self, name):\n",
                "            def dummy_func(*args, **kwargs):\n",
                "                pass\n",
                "            return dummy_func\n",
                "    plt = DummyPlt()\n",
                "import sys\n",
                "import os\n",
                "\n",
                "# Add pytau to path\n",
                "sys.path.append(os.path.join(os.path.dirname(os.getcwd()), '..', '..'))\n",
                "\n",
                "from pytau.changepoint_model import GaussianChangepointMeanDirichlet, gen_test_array"
            ]
        },
        {
            "cell_type": "markdown",
            "metadata": {},
            "source": [
                "## Generate Test Data"
            ]
        },
        {
            "cell_type": "code",
            "execution_count": null,
            "metadata": {},
            "outputs": [],
            "source": [
                "# Generate dummy data with obvious changepoints for Gaussian model\n",
                "np.random.seed(42)\n",
                "n_trials = 10\n",
                "n_time = 100\n",
                "n_states = 3\n",
                "\n",
                "# Create data with obvious state transitions in mean only\n",
                "# State 1: low mean\n",
                "# State 2: high mean\n",
                "# State 3: medium mean\n",
                "state_means = [1.0, 4.0, 2.5]\n",
                "state_std = 0.8  # Fixed variance across states\n",
                "transition_points = [33, 66]  # Clear transition points\n",
                "\n",
                "test_data = np.zeros((n_trials, n_time))\n",
                "for trial in range(n_trials):\n",
                "    # Add some trial-to-trial variability in transition points\n",
                "    trial_transitions = [t + np.random.randint(-3, 4) for t in transition_points]\n",
                "    trial_transitions = [max(5, min(n_time-5, t)) for t in trial_transitions]  # Keep within bounds\n",
                "    \n",
                "    # Generate data for each state\n",
                "    test_data[trial, :trial_transitions[0]] = np.random.normal(state_means[0], state_std, trial_transitions[0])\n",
                "    test_data[trial, trial_transitions[0]:trial_transitions[1]] = np.random.normal(state_means[1], state_std, trial_transitions[1] - trial_transitions[0])\n",
                "    test_data[trial, trial_transitions[1]:] = np.random.normal(state_means[2], state_std, n_time - trial_transitions[1])\n",
                "\n",
                "print(f\"Generated test data shape: {test_data.shape}\")\n",
                "print(f\"Data range: [{test_data.min():.2f}, {test_data.max():.2f}]\")\n",
                "print(f\"State means: {state_means}\")\n",
                "print(f\"Fixed std: {state_std}\")\n",
                "print(f\"Transition points (approx): {transition_points}\")"
            ]
        },
        {
            "cell_type": "markdown",
            "metadata": {},
            "source": [
                "## Initialize and Fit Model"
            ]
        },
        {
            "cell_type": "code",
            "execution_count": null,
            "metadata": {},
            "outputs": [],
            "source": [
                "# Initialize model\n",
                "model = GaussianChangepointMeanDirichlet(\n",
                "    data_array=test_data,\n",
                "    n_states=n_states,\n",
                "    fit_type='vi'\n",
                ")\n",
                "\n",
                "# Generate the PyMC model\n",
                "model.generate_model()\n",
                "print(\"Model generated successfully\")"
            ]
        },
        {
            "cell_type": "markdown",
            "metadata": {},
            "source": [
                "## Run Model Test"
            ]
        },
        {
            "cell_type": "code",
            "execution_count": null,
            "metadata": {},
            "outputs": [],
            "source": [
                "# Test the model\n",
                "try:\n",
                "    model.test()\n",
                "    print(\"Model test completed successfully\")\n",
                "except Exception as e:\n",
                "    print(f\"Model test failed: {e}\")"
            ]
        },
        {
            "cell_type": "markdown",
            "metadata": {},
            "source": [
                "## Visualize Input Data"
            ]
        },
        {
            "cell_type": "code",
            "execution_count": null,
            "metadata": {},
            "outputs": [],
            "source": [
                "# Plot the input data\n",
                "plt.figure(figsize=(12, 6))\n",
                "\n",
                "# Plot time series\n",
                "plt.subplot(1, 2, 1)\n",
                "plt.plot(test_data.flatten())\n",
                "plt.title('Input Time Series Data')\n",
                "plt.xlabel('Time')\n",
                "plt.ylabel('Value')\n",
                "plt.grid(True, alpha=0.3)\n",
                "\n",
                "# Plot histogram\n",
                "plt.subplot(1, 2, 2)\n",
                "plt.hist(test_data.flatten(), bins=30, alpha=0.7, edgecolor='black')\n",
                "plt.title('Data Distribution')\n",
                "plt.xlabel('Value')\n",
                "plt.ylabel('Frequency')\n",
                "plt.grid(True, alpha=0.3)\n",
                "\n",
                "plt.tight_layout()\n",
                "plt.show()"
            ]
        },
        {
            "cell_type": "markdown",
            "metadata": {},
            "source": [
                "## Summary\n",
                "\n",
                "This notebook demonstrated:\n",
                "1. Generating dummy Gaussian data\n",
                "2. Initializing the GaussianChangepointMeanDirichlet model\n",
                "3. Running model tests\n",
                "4. Visualizing the input data\n",
                "\n",
                "The GaussianChangepointMeanDirichlet model uses a Dirichlet prior for changepoint probabilities in Gaussian data."
            ]
        }
    ],
    "metadata": {
        "kernelspec": {
            "display_name": "Python 3",
            "language": "python",
            "name": "python3"
        },
        "language_info": {
            "codemirror_mode": {
                "name": "ipython",
                "version": 3
            },
            "file_extension": ".py",
            "mimetype": "text/x-python",
            "name": "python",
            "nbconvert_exporter": "python",
            "pygments_lexer": "ipython3",
            "version": "3.10.0"
        }
    },
    "nbformat": 4,
    "nbformat_minor": 4
}
