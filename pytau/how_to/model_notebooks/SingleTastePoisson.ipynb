{
    "cells": [
        {
            "cell_type": "markdown",
            "metadata": {},
            "source": [
                "# SingleTastePoisson Model Demo\n",
                "\n",
                "This notebook demonstrates the usage of the SingleTastePoisson model with dummy data."
            ]
        },
        {
            "cell_type": "code",
            "execution_count": null,
            "metadata": {},
            "outputs": [],
            "source": [
                "import numpy as np\n",
                "import matplotlib.pyplot as plt\n",
                "import sys\n",
                "import os\n",
                "\n",
                "# Add pytau to path\n",
                "sys.path.append(os.path.join(os.path.dirname(os.getcwd()), '..', '..'))\n",
                "\n",
                "from pytau.changepoint_model import SingleTastePoisson, gen_test_array"
            ]
        },
        {
            "cell_type": "markdown",
            "metadata": {},
            "source": [
                "## Generate Test Data"
            ]
        },
        {
            "cell_type": "code",
            "execution_count": null,
            "metadata": {},
            "outputs": [],
            "source": [
                "# Generate dummy data with obvious changepoints for Poisson model\n",
                "np.random.seed(42)\n",
                "n_trials = 10\n",
                "n_neurons = 5\n",
                "n_time = 100\n",
                "n_states = 3\n",
                "\n",
                "# Create data with obvious state transitions in firing rates\n",
                "# State 1: low firing rate\n",
                "# State 2: high firing rate\n",
                "# State 3: medium firing rate\n",
                "state_rates = [2.0, 8.0, 5.0]  # Different firing rates for each state\n",
                "transition_points = [33, 66]  # Clear transition points\n",
                "\n",
                "test_data = np.zeros((n_trials, n_neurons, n_time), dtype=int)\n",
                "for trial in range(n_trials):\n",
                "    # Add some trial-to-trial variability in transition points\n",
                "    trial_transitions = [t + np.random.randint(-3, 4) for t in transition_points]\n",
                "    trial_transitions = [max(5, min(n_time-5, t)) for t in trial_transitions]  # Keep within bounds\n",
                "    \n",
                "    for neuron in range(n_neurons):\n",
                "        # Add some neuron-specific variability to rates\n",
                "        neuron_rates = [r * (0.7 + 0.6 * np.random.random()) for r in state_rates]\n",
                "        \n",
                "        # Generate data for each state\n",
                "        test_data[trial, neuron, :trial_transitions[0]] = np.random.poisson(neuron_rates[0], trial_transitions[0])\n",
                "        test_data[trial, neuron, trial_transitions[0]:trial_transitions[1]] = np.random.poisson(neuron_rates[1], trial_transitions[1] - trial_transitions[0])\n",
                "        test_data[trial, neuron, trial_transitions[1]:] = np.random.poisson(neuron_rates[2], n_time - trial_transitions[1])\n",
                "\n",
                "print(f\"Generated test data shape: {test_data.shape}\")\n",
                "print(f\"Data range: [{test_data.min()}, {test_data.max()}]\")\n",
                "print(f\"Data type: {test_data.dtype}\")\n",
                "print(f\"State rates: {state_rates}\")\n",
                "print(f\"Transition points (approx): {transition_points}\")"
            ]
        },
        {
            "cell_type": "markdown",
            "metadata": {},
            "source": [
                "## Initialize and Fit Model"
            ]
        },
        {
            "cell_type": "code",
            "execution_count": null,
            "metadata": {},
            "outputs": [],
            "source": [
                "# Initialize model\n",
                "model = SingleTastePoisson(\n",
                "    data_array=test_data,\n",
                "    n_states=n_states,\n",
                "    fit_type='vi'\n",
                ")\n",
                "\n",
                "# Generate the PyMC model\n",
                "model.generate_model()\n",
                "print(\"Model generated successfully\")"
            ]
        },
        {
            "cell_type": "markdown",
            "metadata": {},
            "source": [
                "## Run Model Test"
            ]
        },
        {
            "cell_type": "code",
            "execution_count": null,
            "metadata": {},
            "outputs": [],
            "source": [
                "# Test the model\n",
                "try:\n",
                "    model.test()\n",
                "    print(\"Model test completed successfully\")\n",
                "except Exception as e:\n",
                "    print(f\"Model test failed: {e}\")"
            ]
        },
        {
            "cell_type": "markdown",
            "metadata": {},
            "source": [
                "## Visualize Input Data"
            ]
        },
        {
            "cell_type": "code",
            "execution_count": null,
            "metadata": {},
            "outputs": [],
            "source": [
                "# Plot the input data\n",
                "plt.figure(figsize=(15, 8))\n",
                "\n",
                "# Plot time series for first neuron, first few trials\n",
                "plt.subplot(2, 2, 1)\n",
                "for trial in range(min(3, test_data.shape[0])):\n",
                "    plt.plot(test_data[trial, 0, :], 'o-', markersize=2, alpha=0.7, label=f'Trial {trial+1}')\n",
                "plt.title('Neuron 1 - Time Series (First 3 Trials)')\n",
                "plt.xlabel('Time')\n",
                "plt.ylabel('Count')\n",
                "plt.legend()\n",
                "plt.grid(True, alpha=0.3)\n",
                "\n",
                "# Plot average across trials for each neuron\n",
                "plt.subplot(2, 2, 2)\n",
                "for neuron in range(min(3, test_data.shape[1])):\n",
                "    avg_response = test_data[:, neuron, :].mean(axis=0)\n",
                "    plt.plot(avg_response, 'o-', markersize=2, alpha=0.7, label=f'Neuron {neuron+1}')\n",
                "plt.title('Average Response per Neuron')\n",
                "plt.xlabel('Time')\n",
                "plt.ylabel('Average Count')\n",
                "plt.legend()\n",
                "plt.grid(True, alpha=0.3)\n",
                "\n",
                "# Plot histogram\n",
                "plt.subplot(2, 2, 3)\n",
                "plt.hist(test_data.flatten(), bins=range(int(test_data.max())+2), alpha=0.7, edgecolor='black')\n",
                "plt.title('Count Distribution')\n",
                "plt.xlabel('Count')\n",
                "plt.ylabel('Frequency')\n",
                "plt.grid(True, alpha=0.3)\n",
                "\n",
                "# Plot heatmap of first neuron\n",
                "plt.subplot(2, 2, 4)\n",
                "plt.imshow(test_data[:, 0, :], aspect='auto', cmap='viridis', interpolation='nearest')\n",
                "plt.colorbar(label='Count')\n",
                "plt.title('Neuron 1 - Trial x Time Heatmap')\n",
                "plt.xlabel('Time')\n",
                "plt.ylabel('Trial')\n",
                "\n",
                "plt.tight_layout()\n",
                "plt.show()"
            ]
        },
        {
            "cell_type": "markdown",
            "metadata": {},
            "source": [
                "## Summary\n",
                "\n",
                "This notebook demonstrated:\n",
                "1. Generating dummy Poisson count data\n",
                "2. Initializing the SingleTastePoisson model\n",
                "3. Running model tests\n",
                "4. Visualizing the input data\n",
                "\n",
                "The SingleTastePoisson model is designed for detecting changepoints in Poisson count data for single taste experiments."
            ]
        }
    ],
    "metadata": {
        "kernelspec": {
            "display_name": "Python 3",
            "language": "python",
            "name": "python3"
        },
        "language_info": {
            "codemirror_mode": {
                "name": "ipython",
                "version": 3
            },
            "file_extension": ".py",
            "mimetype": "text/x-python",
            "name": "python",
            "nbconvert_exporter": "python",
            "pygments_lexer": "ipython3",
            "version": "3.10.0"
        }
    },
    "nbformat": 4,
    "nbformat_minor": 4
}
