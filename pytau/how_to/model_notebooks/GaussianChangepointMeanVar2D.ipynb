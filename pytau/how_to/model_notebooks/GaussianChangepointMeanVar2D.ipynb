{
    "cells": [
        {
            "cell_type": "markdown",
            "metadata": {},
            "source": [
                "# GaussianChangepointMeanVar2D Model Demo\n",
                "\n",
                "This notebook demonstrates the usage of the GaussianChangepointMeanVar2D model with dummy data."
            ]
        },
        {
            "cell_type": "code",
            "execution_count": null,
            "metadata": {},
            "outputs": [],
            "source": [
                "import numpy as np\n",
                "import matplotlib.pyplot as plt\n",
                "import sys\n",
                "import os\n",
                "\n",
                "# Add pytau to path\n",
                "sys.path.append(os.path.join(os.path.dirname(os.getcwd()), '..', '..'))\n",
                "\n",
                "from pytau.changepoint_model import GaussianChangepointMeanVar2D, gen_test_array"
            ]
        },
        {
            "cell_type": "markdown",
            "metadata": {},
            "source": [
                "## Generate Test Data"
            ]
        },
        {
            "cell_type": "code",
            "execution_count": null,
            "metadata": {},
            "outputs": [],
            "source": [
                "# Generate dummy data with obvious changepoints for Gaussian model\n",
                "np.random.seed(42)\n",
                "n_trials = 10\n",
                "n_time = 100\n",
                "n_states = 3\n",
                "\n",
                "# Create data with obvious state transitions\n",
                "# State 1: low mean, low variance\n",
                "# State 2: high mean, low variance\n",
                "# State 3: medium mean, high variance\n",
                "state_means = [1.0, 5.0, 3.0]\n",
                "state_stds = [0.5, 0.5, 2.0]\n",
                "transition_points = [33, 66]  # Clear transition points\n",
                "\n",
                "test_data = np.zeros((n_trials, n_time))\n",
                "for trial in range(n_trials):\n",
                "    # Add some trial-to-trial variability in transition points\n",
                "    trial_transitions = [t + np.random.randint(-3, 4) for t in transition_points]\n",
                "    trial_transitions = [max(5, min(n_time-5, t)) for t in trial_transitions]  # Keep within bounds\n",
                "    \n",
                "    # Generate data for each state\n",
                "    test_data[trial, :trial_transitions[0]] = np.random.normal(state_means[0], state_stds[0], trial_transitions[0])\n",
                "    test_data[trial, trial_transitions[0]:trial_transitions[1]] = np.random.normal(state_means[1], state_stds[1], trial_transitions[1] - trial_transitions[0])\n",
                "    test_data[trial, trial_transitions[1]:] = np.random.normal(state_means[2], state_stds[2], n_time - trial_transitions[1])\n",
                "\n",
                "print(f\"Generated test data shape: {test_data.shape}\")\n",
                "print(f\"Data range: [{test_data.min():.2f}, {test_data.max():.2f}]\")\n",
                "print(f\"State means: {state_means}\")\n",
                "print(f\"State stds: {state_stds}\")\n",
                "print(f\"Transition points (approx): {transition_points}\")"
            ]
        },
        {
            "cell_type": "markdown",
            "metadata": {},
            "source": [
                "## Initialize and Fit Model"
            ]
        },
        {
            "cell_type": "code",
            "execution_count": null,
            "metadata": {},
            "outputs": [],
            "source": [
                "# Initialize model\n",
                "model = GaussianChangepointMeanVar2D(\n",
                "    data_array=test_data,\n",
                "    n_states=n_states,\n",
                "    fit_type='vi'\n",
                ")\n",
                "\n",
                "# Generate the PyMC model\n",
                "model.generate_model()\n",
                "print(\"Model generated successfully\")"
            ]
        },
        {
            "cell_type": "markdown",
            "metadata": {},
            "source": [
                "## Run Model Test"
            ]
        },
        {
            "cell_type": "code",
            "execution_count": null,
            "metadata": {},
            "outputs": [],
            "source": [
                "# Test the model\n",
                "try:\n",
                "    model.test()\n",
                "    print(\"Model test completed successfully\")\n",
                "except Exception as e:\n",
                "    print(f\"Model test failed: {e}\")"
            ]
        },
        {
            "cell_type": "markdown",
            "metadata": {},
            "source": [
                "## Visualize Input Data"
            ]
        },
        {
            "cell_type": "code",
            "execution_count": null,
            "metadata": {},
            "outputs": [],
            "source": [
                "# Plot the input data to visualize changepoints\n",
                "plt.figure(figsize=(15, 10))\n",
                "\n",
                "# Plot individual trials\n",
                "plt.subplot(2, 2, 1)\n",
                "for i in range(min(5, n_trials)):\n",
                "    plt.plot(test_data[i], alpha=0.7, label=f'Trial {i+1}')\n",
                "# Add vertical lines at approximate transition points\n",
                "for tp in transition_points:\n",
                "    plt.axvline(x=tp, color='red', linestyle='--', alpha=0.7)\n",
                "plt.title('Individual Trials (First 5)')\n",
                "plt.xlabel('Time')\n",
                "plt.ylabel('Value')\n",
                "plt.legend()\n",
                "plt.grid(True, alpha=0.3)\n",
                "\n",
                "# Plot average across trials\n",
                "plt.subplot(2, 2, 2)\n",
                "mean_data = test_data.mean(axis=0)\n",
                "std_data = test_data.std(axis=0)\n",
                "plt.plot(mean_data, 'b-', linewidth=2, label='Mean')\n",
                "plt.fill_between(range(n_time), mean_data - std_data, mean_data + std_data, alpha=0.3, label='±1 STD')\n",
                "# Add vertical lines at approximate transition points\n",
                "for tp in transition_points:\n",
                "    plt.axvline(x=tp, color='red', linestyle='--', alpha=0.7, label='Transition' if tp == transition_points[0] else '')\n",
                "plt.title('Average Across Trials')\n",
                "plt.xlabel('Time')\n",
                "plt.ylabel('Value')\n",
                "plt.legend()\n",
                "plt.grid(True, alpha=0.3)\n",
                "\n",
                "# Plot histogram by state\n",
                "plt.subplot(2, 2, 3)\n",
                "state_data = [\n",
                "    test_data[:, :transition_points[0]].flatten(),\n",
                "    test_data[:, transition_points[0]:transition_points[1]].flatten(),\n",
                "    test_data[:, transition_points[1]:].flatten()\n",
                "]\n",
                "colors = ['blue', 'orange', 'green']\n",
                "for i, (data, color) in enumerate(zip(state_data, colors)):\n",
                "    plt.hist(data, bins=20, alpha=0.6, color=color, label=f'State {i+1}', density=True)\n",
                "plt.title('Distribution by State')\n",
                "plt.xlabel('Value')\n",
                "plt.ylabel('Density')\n",
                "plt.legend()\n",
                "plt.grid(True, alpha=0.3)\n",
                "\n",
                "# Plot heatmap\n",
                "plt.subplot(2, 2, 4)\n",
                "plt.imshow(test_data, aspect='auto', cmap='viridis', interpolation='nearest')\n",
                "plt.colorbar(label='Value')\n",
                "# Add vertical lines at approximate transition points\n",
                "for tp in transition_points:\n",
                "    plt.axvline(x=tp, color='red', linestyle='--', alpha=0.8)\n",
                "plt.title('All Trials Heatmap')\n",
                "plt.xlabel('Time')\n",
                "plt.ylabel('Trial')\n",
                "\n",
                "plt.tight_layout()\n",
                "plt.show()"
            ]
        },
        {
            "cell_type": "markdown",
            "metadata": {},
            "source": [
                "## Summary\n",
                "\n",
                "This notebook demonstrated:\n",
                "1. Generating dummy Gaussian data\n",
                "2. Initializing the GaussianChangepointMeanVar2D model\n",
                "3. Running model tests\n",
                "4. Visualizing the input data\n",
                "\n",
                "The GaussianChangepointMeanVar2D model is designed for detecting changepoints in Gaussian data where both mean and variance can change."
            ]
        }
    ],
    "metadata": {
        "kernelspec": {
            "display_name": "Python 3",
            "language": "python",
            "name": "python3"
        },
        "language_info": {
            "codemirror_mode": {
                "name": "ipython",
                "version": 3
            },
            "file_extension": ".py",
            "mimetype": "text/x-python",
            "name": "python",
            "nbconvert_exporter": "python",
            "pygments_lexer": "ipython3",
            "version": "3.10.0"
        }
    },
    "nbformat": 4,
    "nbformat_minor": 4
}
