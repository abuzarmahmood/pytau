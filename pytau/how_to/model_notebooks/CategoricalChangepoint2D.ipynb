{
 "cells": [
  {
   "cell_type": "markdown",
   "metadata": {},
   "source": [
    "# CategoricalChangepoint2D Model Demo\n",
    "\n",
    "This notebook demonstrates the usage of the CategoricalChangepoint2D model with dummy data."
   ]
  },
  {
   "cell_type": "code",
   "execution_count": null,
   "metadata": {},
   "outputs": [],
   "source": [
    "import numpy as np\n",
    "import matplotlib.pyplot as plt\n",
    "import sys\n",
    "import os\n",
    "\n",
    "# Add pytau to path\n",
    "sys.path.append(os.path.join(os.path.dirname(os.getcwd()), '..', '..'))\n",
    "\n",
    "from pytau.changepoint_model import CategoricalChangepoint2D, gen_test_array"
   ]
  },
  {
   "cell_type": "markdown",
   "metadata": {},
   "source": [
    "## Generate Test Data"
   ]
  },
  {
   "cell_type": "code",
   "execution_count": null,
   "metadata": {},
   "outputs": [],
   "source": [
    "# Generate dummy categorical data\n",
    "np.random.seed(42)\n",
    "array_size = 100\n",
    "n_states = 3\n",
    "n_categories = 4\n",
    "\n",
    "# Generate test array with categorical data (integers representing categories)\n",
    "test_data = np.random.randint(0, n_categories, size=(10, array_size))  # (trials, time)\n",
    "print(f\"Generated test data shape: {test_data.shape}\")\n",
    "print(f\"Data range: [{test_data.min()}, {test_data.max()}]\")\n",
    "print(f\"Data type: {test_data.dtype}\")\n",
    "print(f\"Unique categories: {np.unique(test_data)}\")"
   ]
  },
  {
   "cell_type": "markdown",
   "metadata": {},
   "source": [
    "## Initialize and Fit Model"
   ]
  },
  {
   "cell_type": "code",
   "execution_count": null,
   "metadata": {},
   "outputs": [],
   "source": [
    "# Initialize model\n",
    "model = CategoricalChangepoint2D(\n",
    "    data_array=test_data,\n",
    "    n_states=n_states,\n",
    "    fit_type='vi'\n",
    ")\n",
    "\n",
    "# Generate the PyMC model\n",
    "model.generate_model()\n",
    "print(\"Model generated successfully\")"
   ]
  },
  {
   "cell_type": "markdown",
   "metadata": {},
   "source": [
    "## Run Model Test"
   ]
  },
  {
   "cell_type": "code",
   "execution_count": null,
   "metadata": {},
   "outputs": [],
   "source": [
    "# Test the model\n",
    "try:\n",
    "    model.test()\n",
    "    print(\"Model test completed successfully\")\n",
    "except Exception as e:\n",
    "    print(f\"Model test failed: {e}\")"
   ]
  },
  {
   "cell_type": "markdown",
   "metadata": {},
   "source": [
    "## Visualize Input Data"
   ]
  },
  {
   "cell_type": "code",
   "execution_count": null,
   "metadata": {},
   "outputs": [],
   "source": [
    "# Plot the input data\n",
    "plt.figure(figsize=(15, 8))\n",
    "\n",
    "# Plot time series for first few trials\n",
    "plt.subplot(2, 2, 1)\n",
    "for trial in range(min(5, test_data.shape[0])):\n",
    "    plt.plot(test_data[trial], 'o-', markersize=2, alpha=0.7, label=f'Trial {trial+1}')\n",
    "plt.title('Categorical Time Series (First 5 Trials)')\n",
    "plt.xlabel('Time')\n",
    "plt.ylabel('Category')\n",
    "plt.legend()\n",
    "plt.grid(True, alpha=0.3)\n",
    "\n",
    "# Plot category distribution\n",
    "plt.subplot(2, 2, 2)\n",
    "plt.hist(test_data.flatten(), bins=range(n_categories+1), alpha=0.7, edgecolor='black')\n",
    "plt.title('Category Distribution')\n",
    "plt.xlabel('Category')\n",
    "plt.ylabel('Frequency')\n",
    "plt.xticks(range(n_categories))\n",
    "plt.grid(True, alpha=0.3)\n",
    "\n",
    "# Plot heatmap of all trials\n",
    "plt.subplot(2, 1, 2)\n",
    "plt.imshow(test_data, aspect='auto', cmap='viridis', interpolation='nearest')\n",
    "plt.colorbar(label='Category')\n",
    "plt.title('Categorical Data Heatmap (All Trials)')\n",
    "plt.xlabel('Time')\n",
    "plt.ylabel('Trial')\n",
    "\n",
    "plt.tight_layout()\n",
    "plt.show()"
   ]
  },
  {
   "cell_type": "markdown",
   "metadata": {},
   "source": [
    "## Summary\n",
    "\n",
    "This notebook demonstrated:\n",
    "1. Generating dummy categorical data\n",
    "2. Initializing the CategoricalChangepoint2D model\n",
    "3. Running model tests\n",
    "4. Visualizing the categorical input data\n",
    "\n",
    "The CategoricalChangepoint2D model is designed for detecting changepoints in categorical/discrete data where observations can take on one of several discrete values."
   ]
  }
 ],
 "metadata": {
  "kernelspec": {
   "display_name": "Python 3",
   "language": "python",
   "name": "python3"
  },
  "language_info": {
   "codemirror_mode": {
    "name": "ipython",
   "version": 3
   },
   "file_extension": ".py",
   "mimetype": "text/x-python",
   "name": "python",
   "nbconvert_exporter": "python",
   "pygments_lexer": "ipython3",
   "version": "3.10.0"
  }
 },
 "nbformat": 4,
 "nbformat_minor": 4
}