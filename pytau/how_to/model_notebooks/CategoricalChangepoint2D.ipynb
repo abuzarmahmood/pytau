{
    "cells": [
        {
            "cell_type": "markdown",
            "metadata": {},
            "source": [
                "# CategoricalChangepoint2D Model Demo\n",
                "\n",
                "This notebook demonstrates the usage of the CategoricalChangepoint2D model with dummy data."
            ]
        },
        {
            "cell_type": "code",
            "execution_count": null,
            "metadata": {},
            "outputs": [],
            "source": [
                "import numpy as np\n",
                "# Try to import matplotlib, create dummy if not available\n",
                "try:\n",
                "    import matplotlib.pyplot as plt\n",
                "except ImportError:\n",
                "    print('matplotlib not available - creating dummy plt object')\n",
                "    class DummyPlt:\n",
                "        def __getattr__(self, name):\n",
                "            def dummy_func(*args, **kwargs):\n",
                "                pass\n",
                "            return dummy_func\n",
                "    plt = DummyPlt()\n",
                "import sys\n",
                "import os\n",
                "\n",
                "# Add pytau to path\n",
                "sys.path.append(os.path.join(os.path.dirname(os.getcwd()), '..', '..'))\n",
                "\n",
                "from pytau.changepoint_model import CategoricalChangepoint2D, gen_test_array"
            ]
        },
        {
            "cell_type": "markdown",
            "metadata": {},
            "source": [
                "## Generate Test Data"
            ]
        },
        {
            "cell_type": "code",
            "execution_count": null,
            "metadata": {},
            "outputs": [],
            "source": [
                "# Generate dummy data with obvious changepoints for categorical model\n",
                "np.random.seed(42)\n",
                "n_trials = 10\n",
                "n_time = 100\n",
                "n_states = 3\n",
                "n_categories = 4\n",
                "\n",
                "# Create data with obvious state transitions in category preferences\n",
                "# State 1: prefers category 0\n",
                "# State 2: prefers category 2\n",
                "# State 3: prefers category 1\n",
                "state_probs = [\n",
                "    [0.7, 0.1, 0.1, 0.1],  # State 1: mostly category 0\n",
                "    [0.1, 0.1, 0.7, 0.1],  # State 2: mostly category 2\n",
                "    [0.1, 0.7, 0.1, 0.1]   # State 3: mostly category 1\n",
                "]\n",
                "transition_points = [33, 66]  # Clear transition points\n",
                "\n",
                "test_data = np.zeros((n_trials, n_time), dtype=int)\n",
                "for trial in range(n_trials):\n",
                "    # Add some trial-to-trial variability in transition points\n",
                "    trial_transitions = [t + np.random.randint(-3, 4) for t in transition_points]\n",
                "    trial_transitions = [max(5, min(n_time-5, t)) for t in trial_transitions]  # Keep within bounds\n",
                "    \n",
                "    # Generate data for each state\n",
                "    test_data[trial, :trial_transitions[0]] = np.random.choice(n_categories, size=trial_transitions[0], p=state_probs[0])\n",
                "    test_data[trial, trial_transitions[0]:trial_transitions[1]] = np.random.choice(n_categories, size=trial_transitions[1] - trial_transitions[0], p=state_probs[1])\n",
                "    test_data[trial, trial_transitions[1]:] = np.random.choice(n_categories, size=n_time - trial_transitions[1], p=state_probs[2])\n",
                "\n",
                "print(f\"Generated test data shape: {test_data.shape}\")\n",
                "print(f\"Data range: [{test_data.min()}, {test_data.max()}]\")\n",
                "print(f\"Data type: {test_data.dtype}\")\n",
                "print(f\"Unique categories: {np.unique(test_data)}\")\n",
                "print(f\"State probabilities: {state_probs}\")\n",
                "print(f\"Transition points (approx): {transition_points}\")"
            ]
        },
        {
            "cell_type": "markdown",
            "metadata": {},
            "source": [
                "## Initialize and Fit Model"
            ]
        },
        {
            "cell_type": "code",
            "execution_count": null,
            "metadata": {},
            "outputs": [],
            "source": [
                "# Initialize model\n",
                "model = CategoricalChangepoint2D(\n",
                "    data_array=test_data,\n",
                "    n_states=n_states,\n",
                "    fit_type='vi'\n",
                ")\n",
                "\n",
                "# Generate the PyMC model\n",
                "model.generate_model()\n",
                "print(\"Model generated successfully\")"
            ]
        },
        {
            "cell_type": "markdown",
            "metadata": {},
            "source": [
                "## Run Model Test"
            ]
        },
        {
            "cell_type": "code",
            "execution_count": null,
            "metadata": {},
            "outputs": [],
            "source": [
                "# Test the model\n",
                "try:\n",
                "    model.test()\n",
                "    print(\"Model test completed successfully\")\n",
                "except Exception as e:\n",
                "    print(f\"Model test failed: {e}\")"
            ]
        },
        {
            "cell_type": "markdown",
            "metadata": {},
            "source": [
                "## Visualize Input Data"
            ]
        },
        {
            "cell_type": "code",
            "execution_count": null,
            "metadata": {},
            "outputs": [],
            "source": [
                "# Plot the input data\n",
                "plt.figure(figsize=(15, 8))\n",
                "\n",
                "# Plot time series for first few trials\n",
                "plt.subplot(2, 2, 1)\n",
                "for trial in range(min(5, test_data.shape[0])):\n",
                "    plt.plot(test_data[trial], 'o-', markersize=2, alpha=0.7, label=f'Trial {trial+1}')\n",
                "plt.title('Categorical Time Series (First 5 Trials)')\n",
                "plt.xlabel('Time')\n",
                "plt.ylabel('Category')\n",
                "plt.legend()\n",
                "plt.grid(True, alpha=0.3)\n",
                "\n",
                "# Plot category distribution\n",
                "plt.subplot(2, 2, 2)\n",
                "plt.hist(test_data.flatten(), bins=range(n_categories+1), alpha=0.7, edgecolor='black')\n",
                "plt.title('Category Distribution')\n",
                "plt.xlabel('Category')\n",
                "plt.ylabel('Frequency')\n",
                "plt.xticks(range(n_categories))\n",
                "plt.grid(True, alpha=0.3)\n",
                "\n",
                "# Plot heatmap of all trials\n",
                "plt.subplot(2, 1, 2)\n",
                "plt.imshow(test_data, aspect='auto', cmap='viridis', interpolation='nearest')\n",
                "plt.colorbar(label='Category')\n",
                "plt.title('Categorical Data Heatmap (All Trials)')\n",
                "plt.xlabel('Time')\n",
                "plt.ylabel('Trial')\n",
                "\n",
                "plt.tight_layout()\n",
                "plt.show()"
            ]
        },
        {
            "cell_type": "markdown",
            "metadata": {},
            "source": [
                "## Summary\n",
                "\n",
                "This notebook demonstrated:\n",
                "1. Generating dummy categorical data\n",
                "2. Initializing the CategoricalChangepoint2D model\n",
                "3. Running model tests\n",
                "4. Visualizing the categorical input data\n",
                "\n",
                "The CategoricalChangepoint2D model is designed for detecting changepoints in categorical/discrete data where observations can take on one of several discrete values."
            ]
        }
    ],
    "metadata": {
        "kernelspec": {
            "display_name": "Python 3",
            "language": "python",
            "name": "python3"
        },
        "language_info": {
            "codemirror_mode": {
                "name": "ipython",
                "version": 3
            },
            "file_extension": ".py",
            "mimetype": "text/x-python",
            "name": "python",
            "nbconvert_exporter": "python",
            "pygments_lexer": "ipython3",
            "version": "3.10.0"
        }
    },
    "nbformat": 4,
    "nbformat_minor": 4
}
