{
 "cells": [
  {
   "cell_type": "markdown",
   "metadata": {},
   "source": [
    "# GaussianChangepointMeanDirichlet Model Demo\n",
    "\n",
    "This notebook demonstrates the `GaussianChangepointMeanDirichlet` model for detecting changepoints in Gaussian data using a Dirichlet process prior to automatically determine the number of states.\n",
    "\n",
    "## Model Overview\n",
    "- **Data Type**: Gaussian/Normal distributed data\n",
    "- **Input Shape**: 2D array (dimensions × time)\n",
    "- **Detects Changes In**: Mean only (constant variance)\n",
    "- **Special Feature**: Uses Dirichlet process to automatically infer number of states\n",
    "- **Use Case**: When the number of changepoints is unknown"
   ]
  },
  {
   "cell_type": "code",
   "execution_count": null,
   "metadata": {},
   "outputs": [],
   "source": [
    "import numpy as np\n",
    "import matplotlib.pyplot as plt\n",
    "import sys\n",
    "import os\n",
    "\n",
    "# Add pytau to path\n",
    "sys.path.append('../../')\n",
    "\n",
    "from pytau.changepoint_model import GaussianChangepointMeanDirichlet, gen_test_array\n",
    "import pymc as pm"
   ]
  },
  {
   "cell_type": "markdown",
   "metadata": {},
   "source": [
    "## Generate Synthetic Data\n",
    "\n",
    "Create synthetic Gaussian data with unknown number of changepoints."
   ]
  },
  {
   "cell_type": "code",
   "execution_count": null,
   "metadata": {},
   "outputs": [],
   "source": [
    "# Set random seed for reproducibility\n",
    "np.random.seed(42)\n",
    "\n",
    "# Parameters\n",
    "n_dimensions = 3\n",
    "n_timepoints = 150\n",
    "true_n_states = 4  # True number of states (unknown to model)\n",
    "max_states = 10    # Maximum states to consider\n",
    "\n",
    "# Generate test data using the built-in function\n",
    "data_array = gen_test_array((n_dimensions, n_timepoints), n_states=true_n_states, type=\"normal\")\n",
    "\n",
    "print(f\"Data shape: {data_array.shape}\")\n",
    "print(f\"Data range: [{data_array.min():.2f}, {data_array.max():.2f}]\")\n",
    "print(f\"True number of states: {true_n_states}\")\n",
    "print(f\"Maximum states to consider: {max_states}\")"
   ]
  },
  {
   "cell_type": "markdown",
   "metadata": {},
   "source": [
    "## Visualize Input Data\n",
    "\n",
    "Plot the synthetic data to visualize the changepoints."
   ]
  },
  {
   "cell_type": "code",
   "execution_count": null,
   "metadata": {},
   "outputs": [],
   "source": [
    "# Plot the synthetic data\n",
    "fig, axes = plt.subplots(n_dimensions, 1, figsize=(12, 2*n_dimensions), sharex=True)\n",
    "if n_dimensions == 1:\n",
    "    axes = [axes]\n",
    "\n",
    "for i in range(n_dimensions):\n",
    "    axes[i].plot(data_array[i, :], 'b-', alpha=0.7)\n",
    "    axes[i].set_ylabel(f'Dimension {i+1}')\n",
    "    axes[i].grid(True, alpha=0.3)\n",
    "    \n",
    "    # Add vertical lines at expected changepoints\n",
    "    changepoint_locs = np.linspace(0, n_timepoints, true_n_states+1)[1:-1]\n",
    "    for cp in changepoint_locs:\n",
    "        axes[i].axvline(cp, color='red', linestyle='--', alpha=0.5)\n",
    "\n",
    "axes[-1].set_xlabel('Time')\n",
    "plt.suptitle('Synthetic Gaussian Data with Unknown Number of Changepoints\\n(Red dashed lines show true changepoints)', fontsize=14)\n",
    "plt.tight_layout()\n",
    "plt.show()"
   ]
  },
  {
   "cell_type": "markdown",
   "metadata": {},
   "source": [
    "## Create and Fit Model\n",
    "\n",
    "Initialize the GaussianChangepointMeanDirichlet model and fit it to the data."
   ]
  },
  {
   "cell_type": "code",
   "execution_count": null,
   "metadata": {},
   "outputs": [],
   "source": [
    "# Create model instance\n",
    "model_instance = GaussianChangepointMeanDirichlet(data_array, max_states=max_states)\n",
    "\n",
    "# Generate the PyMC model\n",
    "model = model_instance.generate_model()\n",
    "\n",
    "print(\"Model created successfully!\")\n",
    "print(f\"Model variables: {[var.name for var in model.unobserved_RVs]}\")"
   ]
  },
  {
   "cell_type": "code",
   "execution_count": null,
   "metadata": {},
   "outputs": [],
   "source": [
    "# Fit the model using variational inference\n",
    "with model:\n",
    "    # Use ADVI for faster inference\n",
    "    inference = pm.ADVI()\n",
    "    approx = pm.fit(n=8000, method=inference)  # More iterations for Dirichlet process\n",
    "    \n",
    "    # Sample from the approximation\n",
    "    trace = approx.sample(draws=1000)\n",
    "\n",
    "print(\"Model fitting completed!\")"
   ]
  },
  {
   "cell_type": "markdown",
   "metadata": {},
   "source": [
    "## Analyze Results\n",
    "\n",
    "Extract and visualize the inferred changepoints and determine the effective number of states."
   ]
  },
  {
   "cell_type": "code",
   "execution_count": null,
   "metadata": {},
   "outputs": [],
   "source": [
    "# Extract changepoint estimates\n",
    "tau_samples = trace.posterior['tau'].values.reshape(-1, max_states-1)\n",
    "tau_mean = np.mean(tau_samples, axis=0)\n",
    "tau_std = np.std(tau_samples, axis=0)\n",
    "\n",
    "# Extract weights to determine effective number of states\n",
    "w_samples = trace.posterior['w'].values.reshape(-1, max_states)\n",
    "w_mean = np.mean(w_samples, axis=0)\n",
    "\n",
    "# Determine effective number of states (weights > threshold)\n",
    "weight_threshold = 0.05\n",
    "effective_states = np.sum(w_mean > weight_threshold)\n",
    "\n",
    "print(f\"Effective number of states (weight > {weight_threshold}): {effective_states}\")\n",
    "print(f\"True number of states: {true_n_states}\")\n",
    "print(\"\\nState weights:\")\n",
    "for i, weight in enumerate(w_mean):\n",
    "    print(f\"  State {i+1}: {weight:.4f}\")\n",
    "\n",
    "print(\"\\nSignificant Changepoints:\")\n",
    "significant_changepoints = tau_mean[:effective_states-1]\n",
    "for i, cp in enumerate(significant_changepoints):\n",
    "    print(f\"  Changepoint {i+1}: {cp:.2f} ± {tau_std[i]:.2f}\")"
   ]
  },
  {
   "cell_type": "code",
   "execution_count": null,
   "metadata": {},
   "outputs": [],
   "source": [
    "# Plot state weights\n",
    "fig, ax = plt.subplots(1, 1, figsize=(10, 6))\n",
    "\n",
    "bars = ax.bar(range(1, max_states+1), w_mean, alpha=0.7)\n",
    "ax.axhline(weight_threshold, color='red', linestyle='--', label=f'Threshold ({weight_threshold})')\n",
    "ax.set_xlabel('State')\n",
    "ax.set_ylabel('Weight')\n",
    "ax.set_title('Dirichlet Process State Weights')\n",
    "ax.legend()\n",
    "ax.grid(True, alpha=0.3)\n",
    "\n",
    "# Color significant states differently\n",
    "for i, bar in enumerate(bars):\n",
    "    if w_mean[i] > weight_threshold:\n",
    "        bar.set_color('green')\n",
    "        bar.set_alpha(0.8)\n",
    "\n",
    "plt.tight_layout()\n",
    "plt.show()"
   ]
  },
  {
   "cell_type": "code",
   "execution_count": null,
   "metadata": {},
   "outputs": [],
   "source": [
    "# Plot significant changepoint posterior distributions\n",
    "n_significant_cp = len(significant_changepoints)\n",
    "if n_significant_cp > 0:\n",
    "    fig, axes = plt.subplots(1, n_significant_cp, figsize=(4*n_significant_cp, 4))\n",
    "    if n_significant_cp == 1:\n",
    "        axes = [axes]\n",
    "\n",
    "    true_changepoints = np.linspace(0, n_timepoints, true_n_states+1)[1:-1]\n",
    "    \n",
    "    for i in range(n_significant_cp):\n",
    "        axes[i].hist(tau_samples[:, i], bins=50, alpha=0.7, density=True)\n",
    "        axes[i].axvline(tau_mean[i], color='red', linestyle='-', label=f'Mean: {tau_mean[i]:.1f}')\n",
    "        if i < len(true_changepoints):\n",
    "            axes[i].axvline(true_changepoints[i], color='green', linestyle='--', label=f'True: {true_changepoints[i]:.1f}')\n",
    "        axes[i].set_xlabel('Time')\n",
    "        axes[i].set_ylabel('Density')\n",
    "        axes[i].set_title(f'Changepoint {i+1} Posterior')\n",
    "        axes[i].legend()\n",
    "        axes[i].grid(True, alpha=0.3)\n",
    "\n",
    "    plt.tight_layout()\n",
    "    plt.show()\nelse:\n",
    "    print(\"No significant changepoints detected.\")"
   ]
  },
  {
   "cell_type": "markdown",
   "metadata": {},
   "source": [
    "## Visualize Model Fit\n",
    "\n",
    "Show the original data with inferred changepoints overlaid."
   ]
  },
  {
   "cell_type": "code",
   "execution_count": null,
   "metadata": {},
   "outputs": [],
   "source": [
    "# Plot data with inferred changepoints\n",
    "fig, axes = plt.subplots(n_dimensions, 1, figsize=(12, 2*n_dimensions), sharex=True)\n",
    "if n_dimensions == 1:\n",
    "    axes = [axes]\n",
    "\n",
    "true_changepoints = np.linspace(0, n_timepoints, true_n_states+1)[1:-1]\n",
    "\n",
    "for i in range(n_dimensions):\n",
    "    axes[i].plot(data_array[i, :], 'b-', alpha=0.7, label='Data')\n",
    "    axes[i].set_ylabel(f'Dimension {i+1}')\n",
    "    axes[i].grid(True, alpha=0.3)\n",
    "    \n",
    "    # Add inferred changepoints (only significant ones)\n",
    "    for j, cp in enumerate(significant_changepoints):\n",
    "        axes[i].axvline(cp, color='red', linestyle='-', alpha=0.8, \n",
    "                       label='Inferred CP' if i == 0 and j == 0 else '')\n",
    "    \n",
    "    # Add true changepoints\n",
    "    for j, cp in enumerate(true_changepoints):\n",
    "        axes[i].axvline(cp, color='green', linestyle='--', alpha=0.5,\n",
    "                       label='True CP' if i == 0 and j == 0 else '')\n",
    "\n",
    "axes[0].legend()\n",
    "axes[-1].set_xlabel('Time')\n",
    "plt.suptitle(f'Dirichlet Process Model Results\\nInferred {effective_states} states (True: {true_n_states})', fontsize=14)\n",
    "plt.tight_layout()\n",
    "plt.show()"
   ]
  },
  {
   "cell_type": "markdown",
   "metadata": {},
   "source": [
    "## Model Parameters\n",
    "\n",
    "Examine the inferred mean parameters for significant states."
   ]
  },
  {
   "cell_type": "code",
   "execution_count": null,
   "metadata": {},
   "outputs": [],
   "source": [
    "# Extract mean parameters for significant states\n",
    "mu_samples = trace.posterior['mu'].values.reshape(-1, n_dimensions, max_states)\n",
    "mu_mean = np.mean(mu_samples, axis=0)\n",
    "\n",
    "# Extract global sigma (constant across states)\n",
    "sigma_samples = trace.posterior['sigma'].values.reshape(-1, n_dimensions)\n",
    "sigma_mean = np.mean(sigma_samples, axis=0)\n",
    "\n",
    "print(\"Inferred Parameters for Significant States:\")\n",
    "for state in range(effective_states):\n",
    "    print(f\"\\nState {state + 1} (weight: {w_mean[state]:.4f}):\")\n",
    "    for dim in range(n_dimensions):\n",
    "        print(f\"  Dimension {dim + 1}: μ = {mu_mean[dim, state]:.3f}\")\n",
    "\n",
    "print(\"\\nConstant Standard Deviations:\")\n",
    "for dim in range(n_dimensions):\n",
    "    print(f\"  Dimension {dim + 1}: σ = {sigma_mean[dim]:.3f}\")"
   ]
  },
  {
   "cell_type": "code",
   "execution_count": null,
   "metadata": {},
   "outputs": [],
   "source": [
    "# Plot mean parameter evolution across significant states\n",
    "fig, ax = plt.subplots(1, 1, figsize=(10, 6))\n",
    "\n",
    "# Mean parameters for significant states only\n",
    "for dim in range(n_dimensions):\n",
    "    ax.plot(range(1, effective_states+1), mu_mean[dim, :effective_states], \n",
    "            'o-', label=f'Dim {dim+1}', linewidth=2, markersize=8)\n",
    "\n",
    "ax.set_xlabel('Significant State')\n",
    "ax.set_ylabel('Mean (μ)')\n",
    "ax.set_title(f'Mean Parameters for {effective_states} Significant States\\n(Dirichlet Process Automatic State Selection)')\n",
    "ax.legend()\n",
    "ax.grid(True, alpha=0.3)\n",
    "ax.set_xticks(range(1, effective_states+1))\n",
    "\n",
    "plt.tight_layout()\n",
    "plt.show()"
   ]
  },
  {
   "cell_type": "markdown",
   "metadata": {},
   "source": [
    "## Summary\n",
    "\n",
    "This notebook demonstrated the `GaussianChangepointMeanDirichlet` model:\n",
    "\n",
    "1. **Data Generation**: Created synthetic Gaussian data with unknown number of changepoints\n",
    "2. **Model Fitting**: Used Dirichlet process prior to automatically determine number of states\n",
    "3. **State Selection**: Identified significant states based on weight thresholding\n",
    "4. **Results Analysis**: Compared inferred vs. true number of states and changepoint locations\n",
    "\n",
    "The Dirichlet process model is particularly useful when:\n",
    "- The number of changepoints is unknown\n",
    "- You want to avoid overfitting by automatically selecting model complexity\n",
    "- You have sufficient data to support the more complex inference procedure\n",
    "\n",
    "**Key Advantages:**\n",
    "- Automatic model selection\n",
    "- Principled uncertainty quantification\n",
    "- Avoids manual tuning of number of states\n",
    "\n",
    "**Considerations:**\n",
    "- Requires more computational resources\n",
    "- May need larger datasets for reliable inference\n",
    "- Weight threshold selection affects final model complexity"
   ]
  }
 ],
 "metadata": {
  "kernelspec": {
   "display_name": "Python 3",
   "language": "python",
   "name": "python3"
  },
  "language_info": {
   "codemirror_mode": {
    "name": "ipython",
    "version": 3
   },
   "file_extension": ".py",
   "mimetype": "text/x-python",
   "name": "python",
   "nbconvert_exporter": "python",
   "pygments_lexer": "ipython3",
   "version": "3.8.5"
  }
 },
 "nbformat": 4,
 "nbformat_minor": 4
}