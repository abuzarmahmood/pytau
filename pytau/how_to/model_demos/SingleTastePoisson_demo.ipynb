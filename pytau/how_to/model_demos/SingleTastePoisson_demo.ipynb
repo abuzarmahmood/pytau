{
 "cells": [
  {
   "cell_type": "markdown",
   "metadata": {},
   "source": [
    "# SingleTastePoisson Model Demo\n",
    "\n",
    "This notebook demonstrates the `SingleTastePoisson` model for detecting changepoints in Poisson-distributed data (e.g., spike counts) for a single condition/taste.\n",
    "\n",
    "## Model Overview\n",
    "- **Data Type**: Poisson distributed data (spike counts)\n",
    "- **Input Shape**: 3D array (neurons × trials × time)\n",
    "- **Scope**: Single taste/condition\n",
    "- **Use Case**: Neural spike train changepoint detection for one experimental condition"
   ]
  },
  {
   "cell_type": "code",
   "execution_count": null,
   "metadata": {},
   "outputs": [],
   "source": [
    "import numpy as np\n",
    "import matplotlib.pyplot as plt\n",
    "import sys\n",
    "import os\n",
    "\n",
    "# Add pytau to path\n",
    "sys.path.append('../../')\n",
    "\n",
    "from pytau.changepoint_model import SingleTastePoisson, gen_test_array\n",
    "import pymc as pm"
   ]
  },
  {
   "cell_type": "markdown",
   "metadata": {},
   "source": [
    "## Generate Synthetic Data\n",
    "\n",
    "Create synthetic Poisson spike count data with known changepoints."
   ]
  },
  {
   "cell_type": "code",
   "execution_count": null,
   "metadata": {},
   "outputs": [],
   "source": [
    "# Set random seed for reproducibility\n",
    "np.random.seed(42)\n",
    "\n",
    "# Parameters\n",
    "n_neurons = 6\n",
    "n_trials = 15\n",
    "n_timepoints = 80\n",
    "n_states = 3\n",
    "\n",
    "# Generate test data using the built-in function\n",
    "data_array = gen_test_array((n_neurons, n_trials, n_timepoints), n_states=n_states, type=\"poisson\")\n",
    "\n",
    "print(f\"Data shape: {data_array.shape}\")\n",
    "print(f\"Data range: [{data_array.min()}, {data_array.max()}]\")\n",
    "print(f\"Mean firing rate: {data_array.mean():.2f} spikes/bin\")"
   ]
  },
  {
   "cell_type": "markdown",
   "metadata": {},
   "source": [
    "## Visualize Input Data\n",
    "\n",
    "Plot the synthetic spike count data to visualize the changepoints."
   ]
  },
  {
   "cell_type": "code",
   "execution_count": null,
   "metadata": {},
   "outputs": [],
   "source": [
    "# Plot average firing rates across trials\n",
    "mean_rates = np.mean(data_array, axis=1)  # Average across trials\n",
    "\n",
    "fig, axes = plt.subplots(n_neurons, 1, figsize=(12, 2*n_neurons), sharex=True)\n",
    "if n_neurons == 1:\n",
    "    axes = [axes]\n",
    "\n",
    "# Expected changepoint locations\n",
    "changepoint_locs = np.linspace(0, n_timepoints, n_states+1)[1:-1]\n",
    "\n",
    "for i in range(n_neurons):\n",
    "    axes[i].plot(mean_rates[i, :], 'b-', alpha=0.7, linewidth=2)\n",
    "    axes[i].set_ylabel(f'Neuron {i+1}\\nSpikes/bin')\n",
    "    axes[i].grid(True, alpha=0.3)\n",
    "    \n",
    "    # Add vertical lines at expected changepoints\n",
    "    for cp in changepoint_locs:\n",
    "        axes[i].axvline(cp, color='red', linestyle='--', alpha=0.5)\n",
    "\n",
    "axes[-1].set_xlabel('Time (bins)')\n",
    "plt.suptitle('Synthetic Poisson Spike Data (Trial-Averaged)\\n(Red dashed lines show true changepoints)', fontsize=14)\n",
    "plt.tight_layout()\n",
    "plt.show()"
   ]
  },
  {
   "cell_type": "code",
   "execution_count": null,
   "metadata": {},
   "outputs": [],
   "source": [
    "# Plot raster plot for first few neurons and trials\n",
    "n_show_neurons = min(3, n_neurons)\n",
    "n_show_trials = min(5, n_trials)\n",
    "\n",
    "fig, axes = plt.subplots(n_show_neurons, 1, figsize=(12, 2*n_show_neurons), sharex=True)\n",
    "if n_show_neurons == 1:\n",
    "    axes = [axes]\n",
    "\n",
    "for neuron in range(n_show_neurons):\n",
    "    for trial in range(n_show_trials):\n",
    "        spike_times = np.where(data_array[neuron, trial, :] > 0)[0]\n",
    "        spike_counts = data_array[neuron, trial, spike_times]\n",
    "        \n",
    "        # Plot spikes as vertical lines with height proportional to count\n",
    "        for time, count in zip(spike_times, spike_counts):\n",
    "            axes[neuron].vlines(time, trial, trial + count/data_array.max(), \n",
    "                              colors='black', alpha=0.7)\n",
    "    \n",
    "    axes[neuron].set_ylabel(f'Neuron {neuron+1}\\nTrial')\n",
    "    axes[neuron].set_ylim(0, n_show_trials + 1)\n",
    "    axes[neuron].grid(True, alpha=0.3)\n",
    "    \n",
    "    # Add changepoints\n",
    "    for cp in changepoint_locs:\n",
    "        axes[neuron].axvline(cp, color='red', linestyle='--', alpha=0.5)\n",
    "\n",
    "axes[-1].set_xlabel('Time (bins)')\n",
    "plt.suptitle(f'Spike Raster Plot (First {n_show_neurons} neurons, {n_show_trials} trials)', fontsize=14)\n",
    "plt.tight_layout()\n",
    "plt.show()"
   ]
  },
  {
   "cell_type": "markdown",
   "metadata": {},
   "source": [
    "## Create and Fit Model\n",
    "\n",
    "Initialize the SingleTastePoisson model and fit it to the data."
   ]
  },
  {
   "cell_type": "code",
   "execution_count": null,
   "metadata": {},
   "outputs": [],
   "source": [
    "# Create model instance\n",
    "model_instance = SingleTastePoisson(data_array, n_states=n_states)\n",
    "\n",
    "# Generate the PyMC model\n",
    "model = model_instance.generate_model()\n",
    "\n",
    "print(\"Model created successfully!\")\n",
    "print(f\"Model variables: {[var.name for var in model.unobserved_RVs]}\")"
   ]
  },
  {
   "cell_type": "code",
   "execution_count": null,
   "metadata": {},
   "outputs": [],
   "source": [
    "# Fit the model using variational inference\n",
    "with model:\n",
    "    # Use ADVI for faster inference\n",
    "    inference = pm.ADVI()\n",
    "    approx = pm.fit(n=6000, method=inference)\n",
    "    \n",
    "    # Sample from the approximation\n",
    "    trace = approx.sample(draws=1000)\n",
    "\n",
    "print(\"Model fitting completed!\")"
   ]
  },
  {
   "cell_type": "markdown",
   "metadata": {},
   "source": [
    "## Analyze Results\n",
    "\n",
    "Extract and visualize the inferred changepoints and firing rate parameters."
   ]
  },
  {
   "cell_type": "code",
   "execution_count": null,
   "metadata": {},
   "outputs": [],
   "source": [
    "# Extract changepoint estimates\n",
    "tau_samples = trace.posterior['tau'].values.reshape(-1, n_states-1)\n",
    "tau_mean = np.mean(tau_samples, axis=0)\n",
    "tau_std = np.std(tau_samples, axis=0)\n",
    "\n",
    "print(\"Inferred Changepoints:\")\n",
    "for i, (mean_cp, std_cp) in enumerate(zip(tau_mean, tau_std)):\n",
    "    print(f\"  Changepoint {i+1}: {mean_cp:.2f} ± {std_cp:.2f}\")\n",
    "\n",
    "# True changepoints for comparison\n",
    "true_changepoints = np.linspace(0, n_timepoints, n_states+1)[1:-1]\n",
    "print(f\"\\nTrue Changepoints: {true_changepoints}\")"
   ]
  },
  {
   "cell_type": "code",
   "execution_count": null,
   "metadata": {},
   "outputs": [],
   "source": [
    "# Plot changepoint posterior distributions\n",
    "fig, axes = plt.subplots(1, n_states-1, figsize=(4*(n_states-1), 4))\n",
    "if n_states-1 == 1:\n",
    "    axes = [axes]\n",
    "\n",
    "for i in range(n_states-1):\n",
    "    axes[i].hist(tau_samples[:, i], bins=50, alpha=0.7, density=True)\n",
    "    axes[i].axvline(tau_mean[i], color='red', linestyle='-', label=f'Mean: {tau_mean[i]:.1f}')\n",
    "    axes[i].axvline(true_changepoints[i], color='green', linestyle='--', label=f'True: {true_changepoints[i]:.1f}')\n",
    "    axes[i].set_xlabel('Time (bins)')\n",
    "    axes[i].set_ylabel('Density')\n",
    "    axes[i].set_title(f'Changepoint {i+1} Posterior')\n",
    "    axes[i].legend()\n",
    "    axes[i].grid(True, alpha=0.3)\n",
    "\n",
    "plt.tight_layout()\n",
    "plt.show()"
   ]
  },
  {
   "cell_type": "markdown",
   "metadata": {},
   "source": [
    "## Visualize Model Fit\n",
    "\n",
    "Show the original data with inferred changepoints overlaid."
   ]
  },
  {
   "cell_type": "code",
   "execution_count": null,
   "metadata": {},
   "outputs": [],
   "source": [
    "# Plot data with inferred changepoints\n",
    "fig, axes = plt.subplots(n_neurons, 1, figsize=(12, 2*n_neurons), sharex=True)\n",
    "if n_neurons == 1:\n",
    "    axes = [axes]\n",
    "\n",
    "for i in range(n_neurons):\n",
    "    axes[i].plot(mean_rates[i, :], 'b-', alpha=0.7, linewidth=2, label='Data')\n",
    "    axes[i].set_ylabel(f'Neuron {i+1}\\nSpikes/bin')\n",
    "    axes[i].grid(True, alpha=0.3)\n",
    "    \n",
    "    # Add inferred changepoints\n",
    "    for j, cp in enumerate(tau_mean):\n",
    "        axes[i].axvline(cp, color='red', linestyle='-', alpha=0.8, linewidth=2,\n",
    "                       label='Inferred CP' if i == 0 and j == 0 else '')\n",
    "    \n",
    "    # Add true changepoints\n",
    "    for j, cp in enumerate(true_changepoints):\n",
    "        axes[i].axvline(cp, color='green', linestyle='--', alpha=0.5,\n",
    "                       label='True CP' if i == 0 and j == 0 else '')\n",
    "\n",
    "axes[0].legend()\n",
    "axes[-1].set_xlabel('Time (bins)')\n",
    "plt.suptitle('Single Taste Poisson Model Results\\n(Red: Inferred, Green: True Changepoints)', fontsize=14)\n",
    "plt.tight_layout()\n",
    "plt.show()"
   ]
  },
  {
   "cell_type": "markdown",
   "metadata": {},
   "source": [
    "## Model Parameters\n",
    "\n",
    "Examine the inferred firing rate parameters for each neuron and state."
   ]
  },
  {
   "cell_type": "code",
   "execution_count": null,
   "metadata": {},
   "outputs": [],
   "source": [
    "# Extract firing rate parameters\n",
    "lambda_samples = trace.posterior['lambda'].values.reshape(-1, n_neurons, n_states)\n",
    "lambda_mean = np.mean(lambda_samples, axis=0)\n",
    "lambda_std = np.std(lambda_samples, axis=0)\n",
    "\n",
    "print(\"Inferred Firing Rates by State:\")\n",
    "for state in range(n_states):\n",
    "    print(f\"\\nState {state + 1}:\")\n",
    "    for neuron in range(n_neurons):\n",
    "        print(f\"  Neuron {neuron + 1}: λ = {lambda_mean[neuron, state]:.3f} ± {lambda_std[neuron, state]:.3f} spikes/bin\")"
   ]
  },
  {
   "cell_type": "code",
   "execution_count": null,
   "metadata": {},
   "outputs": [],
   "source": [
    "# Plot firing rate evolution across states\n",
    "fig, ax = plt.subplots(1, 1, figsize=(12, 8))\n",
    "\n",
    "# Create a heatmap of firing rates\n",
    "im = ax.imshow(lambda_mean, aspect='auto', cmap='viridis', interpolation='nearest')\n",
    "ax.set_xlabel('State')\n",
    "ax.set_ylabel('Neuron')\n",
    "ax.set_title('Firing Rates by Neuron and State')\n",
    "ax.set_xticks(range(n_states))\n",
    "ax.set_xticklabels([f'State {i+1}' for i in range(n_states)])\n",
    "ax.set_yticks(range(n_neurons))\n",
    "ax.set_yticklabels([f'Neuron {i+1}' for i in range(n_neurons)])\n",
    "\n",
    "# Add colorbar\n",
    "cbar = plt.colorbar(im, ax=ax)\n",
    "cbar.set_label('Firing Rate (spikes/bin)')\n",
    "\n",
    "# Add text annotations\n",
    "for i in range(n_neurons):\n",
    "    for j in range(n_states):\n",
    "        text = ax.text(j, i, f'{lambda_mean[i, j]:.2f}',\n",
    "                      ha=\"center\", va=\"center\", color=\"white\", fontweight='bold')\n",
    "\n",
    "plt.tight_layout()\n",
    "plt.show()"
   ]
  },
  {
   "cell_type": "code",
   "execution_count": null,
   "metadata": {},
   "outputs": [],
   "source": [
    "# Plot firing rate trajectories for each neuron\n",
    "fig, ax = plt.subplots(1, 1, figsize=(10, 6))\n",
    "\n",
    "for neuron in range(n_neurons):\n",
    "    ax.plot(range(1, n_states+1), lambda_mean[neuron, :], 'o-', \n",
    "            label=f'Neuron {neuron+1}', linewidth=2, markersize=8)\n",
    "\n",
    "ax.set_xlabel('State')\n",
    "ax.set_ylabel('Firing Rate (spikes/bin)')\n",
    "ax.set_title('Firing Rate Evolution Across States')\n",
    "ax.legend(bbox_to_anchor=(1.05, 1), loc='upper left')\n",
    "ax.grid(True, alpha=0.3)\n",
    "ax.set_xticks(range(1, n_states+1))\n",
    "\n",
    "plt.tight_layout()\n",
    "plt.show()"
   ]
  },
  {
   "cell_type": "markdown",
   "metadata": {},
   "source": [
    "## Model Validation\n",
    "\n",
    "Compare model predictions with observed data."
   ]
  },
  {
   "cell_type": "code",
   "execution_count": null,
   "metadata": {},
   "outputs": [],
   "source": [
    "# Generate predicted firing rates using inferred parameters\n",
    "# This is a simplified reconstruction - the actual model uses sigmoid transitions\n",
    "\n",
    "predicted_rates = np.zeros((n_neurons, n_timepoints))\n",
    "time_points = np.arange(n_timepoints)\n",
    "\n",
    "# Assign states based on changepoints (simplified step function)\n",
    "state_assignments = np.zeros(n_timepoints, dtype=int)\n",
    "changepoints_with_bounds = np.concatenate([[0], tau_mean, [n_timepoints]])\n",
    "\n",
    "for i in range(n_states):\n",
    "    start_idx = int(changepoints_with_bounds[i])\n",
    "    end_idx = int(changepoints_with_bounds[i+1])\n",
    "    state_assignments[start_idx:end_idx] = i\n",
    "\n",
    "# Assign firing rates based on state\n",
    "for t in range(n_timepoints):\n",
    "    state = state_assignments[t]\n",
    "    predicted_rates[:, t] = lambda_mean[:, state]\n",
    "\n",
    "# Plot comparison\n",
    "fig, axes = plt.subplots(min(4, n_neurons), 1, figsize=(12, 2*min(4, n_neurons)), sharex=True)\n",
    "if min(4, n_neurons) == 1:\n",
    "    axes = [axes]\n",
    "\n",
    "for i in range(min(4, n_neurons)):\n",
    "    axes[i].plot(mean_rates[i, :], 'b-', alpha=0.7, linewidth=2, label='Observed')\n",
    "    axes[i].plot(predicted_rates[i, :], 'r--', alpha=0.8, linewidth=2, label='Predicted')\n",
    "    axes[i].set_ylabel(f'Neuron {i+1}\\nSpikes/bin')\n",
    "    axes[i].grid(True, alpha=0.3)\n",
    "    axes[i].legend()\n",
    "    \n",
    "    # Add changepoints\n",
    "    for cp in tau_mean:\n",
    "        axes[i].axvline(cp, color='gray', linestyle=':', alpha=0.5)\n",
    "\n",
    "axes[-1].set_xlabel('Time (bins)')\n",
    "plt.suptitle('Model Validation: Observed vs Predicted Firing Rates', fontsize=14)\n",
    "plt.tight_layout()\n",
    "plt.show()"
   ]
  },
  {
   "cell_type": "markdown",
   "metadata": {},
   "source": [
    "## Summary\n",
    "\n",
    "This notebook demonstrated the `SingleTastePoisson` model:\n",
    "\n",
    "1. **Data Generation**: Created synthetic Poisson spike count data with known changepoints\n",
    "2. **Data Visualization**: Showed trial-averaged firing rates and raster plots\n",
    "3. **Model Fitting**: Used variational inference to fit the changepoint model\n",
    "4. **Results Analysis**: Extracted and visualized changepoint estimates and firing rate parameters\n",
    "5. **Model Validation**: Compared predicted vs observed firing rates\n",
    "\n",
    "The model successfully detected changepoints in Poisson spike count data for a single experimental condition. Key features:\n",
    "\n",
    "**Strengths:**\n",
    "- Appropriate for count data (spikes)\n",
    "- Handles trial-to-trial variability\n",
    "- Provides uncertainty estimates for changepoints\n",
    "- Infers firing rate parameters for each state\n",
    "\n",
    "**Use Cases:**\n",
    "- Single-condition neural recordings\n",
    "- Spike train analysis\n",
    "- Detecting state transitions in neural activity\n",
    "- Time-resolved analysis of neural responses"
   ]
  }
 ],
 "metadata": {
  "kernelspec": {
   "display_name": "Python 3",
   "language": "python",
   "name": "python3"
  },
  "language_info": {
   "codemirror_mode": {
    "name": "ipython",
    "version": 3
   },
   "file_extension": ".py",
   "mimetype": "text/x-python",
   "name": "python",
   "nbconvert_exporter": "python",
   "pygments_lexer": "ipython3",
   "version": "3.8.5"
  }
 },
 "nbformat": 4,
 "nbformat_minor": 4
}