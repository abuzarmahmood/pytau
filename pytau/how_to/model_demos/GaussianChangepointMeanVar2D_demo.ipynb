{
 "cells": [
  {
   "cell_type": "markdown",
   "metadata": {},
   "source": [
    "# GaussianChangepointMeanVar2D Model Demo\n",
    "\n",
    "This notebook demonstrates the `GaussianChangepointMeanVar2D` model for detecting changepoints in Gaussian data where both mean and variance can change.\n",
    "\n",
    "## Model Overview\n",
    "- **Data Type**: Gaussian/Normal distributed data\n",
    "- **Input Shape**: 2D array (dimensions × time)\n",
    "- **Detects Changes In**: Both mean and variance\n",
    "- **Use Case**: Neural data with varying firing rates and variability"
   ]
  },
  {
   "cell_type": "code",
   "execution_count": null,
   "metadata": {},
   "outputs": [],
   "source": [
    "import numpy as np\n",
    "import matplotlib.pyplot as plt\n",
    "import sys\n",
    "import os\n",
    "\n",
    "# Add pytau to path\n",
    "sys.path.append('../../')\n",
    "\n",
    "from pytau.changepoint_model import GaussianChangepointMeanVar2D, gen_test_array\n",
    "import pymc as pm"
   ]
  },
  {
   "cell_type": "markdown",
   "metadata": {},
   "source": [
    "## Generate Synthetic Data\n",
    "\n",
    "Create synthetic Gaussian data with known changepoints in both mean and variance."
   ]
  },
  {
   "cell_type": "code",
   "execution_count": null,
   "metadata": {},
   "outputs": [],
   "source": [
    "# Set random seed for reproducibility\n",
    "np.random.seed(42)\n",
    "\n",
    "# Parameters\n",
    "n_dimensions = 5\n",
    "n_timepoints = 100\n",
    "n_states = 3\n",
    "\n",
    "# Generate test data using the built-in function\n",
    "data_array = gen_test_array((n_dimensions, n_timepoints), n_states=n_states, type=\"normal\")\n",
    "\n",
    "print(f\"Data shape: {data_array.shape}\")\n",
    "print(f\"Data range: [{data_array.min():.2f}, {data_array.max():.2f}]\")"
   ]
  },
  {
   "cell_type": "markdown",
   "metadata": {},
   "source": [
    "## Visualize Input Data\n",
    "\n",
    "Plot the synthetic data to visualize the changepoints."
   ]
  },
  {
   "cell_type": "code",
   "execution_count": null,
   "metadata": {},
   "outputs": [],
   "source": [
    "# Plot the synthetic data\n",
    "fig, axes = plt.subplots(n_dimensions, 1, figsize=(12, 2*n_dimensions), sharex=True)\n",
    "if n_dimensions == 1:\n",
    "    axes = [axes]\n",
    "\n",
    "for i in range(n_dimensions):\n",
    "    axes[i].plot(data_array[i, :], 'b-', alpha=0.7)\n",
    "    axes[i].set_ylabel(f'Dimension {i+1}')\n",
    "    axes[i].grid(True, alpha=0.3)\n",
    "    \n",
    "    # Add vertical lines at expected changepoints\n",
    "    changepoint_locs = np.linspace(0, n_timepoints, n_states+1)[1:-1]\n",
    "    for cp in changepoint_locs:\n",
    "        axes[i].axvline(cp, color='red', linestyle='--', alpha=0.5)\n",
    "\n",
    "axes[-1].set_xlabel('Time')\n",
    "plt.suptitle('Synthetic Gaussian Data with Changepoints\\n(Red dashed lines show true changepoints)', fontsize=14)\n",
    "plt.tight_layout()\n",
    "plt.show()"
   ]
  },
  {
   "cell_type": "markdown",
   "metadata": {},
   "source": [
    "## Create and Fit Model\n",
    "\n",
    "Initialize the GaussianChangepointMeanVar2D model and fit it to the data."
   ]
  },
  {
   "cell_type": "code",
   "execution_count": null,
   "metadata": {},
   "outputs": [],
   "source": [
    "# Create model instance\n",
    "model_instance = GaussianChangepointMeanVar2D(data_array, n_states=n_states)\n",
    "\n",
    "# Generate the PyMC model\n",
    "model = model_instance.generate_model()\n",
    "\n",
    "print(\"Model created successfully!\")\n",
    "print(f\"Model variables: {[var.name for var in model.unobserved_RVs]}\")"
   ]
  },
  {
   "cell_type": "code",
   "execution_count": null,
   "metadata": {},
   "outputs": [],
   "source": [
    "# Fit the model using variational inference\n",
    "with model:\n",
    "    # Use ADVI for faster inference\n",
    "    inference = pm.ADVI()\n",
    "    approx = pm.fit(n=5000, method=inference)\n",
    "    \n",
    "    # Sample from the approximation\n",
    "    trace = approx.sample(draws=1000)\n",
    "\n",
    "print(\"Model fitting completed!\")"
   ]
  },
  {
   "cell_type": "markdown",
   "metadata": {},
   "source": [
    "## Analyze Results\n",
    "\n",
    "Extract and visualize the inferred changepoints and parameters."
   ]
  },
  {
   "cell_type": "code",
   "execution_count": null,
   "metadata": {},
   "outputs": [],
   "source": [
    "# Extract changepoint estimates\n",
    "tau_samples = trace.posterior['tau'].values.reshape(-1, n_states-1)\n",
    "tau_mean = np.mean(tau_samples, axis=0)\n",
    "tau_std = np.std(tau_samples, axis=0)\n",
    "\n",
    "print(\"Inferred Changepoints:\")\n",
    "for i, (mean_cp, std_cp) in enumerate(zip(tau_mean, tau_std)):\n",
    "    print(f\"  Changepoint {i+1}: {mean_cp:.2f} ± {std_cp:.2f}\")\n",
    "\n",
    "# True changepoints for comparison\n",
    "true_changepoints = np.linspace(0, n_timepoints, n_states+1)[1:-1]\n",
    "print(f\"\\nTrue Changepoints: {true_changepoints}\")"
   ]
  },
  {
   "cell_type": "code",
   "execution_count": null,
   "metadata": {},
   "outputs": [],
   "source": [
    "# Plot changepoint posterior distributions\n",
    "fig, axes = plt.subplots(1, n_states-1, figsize=(4*(n_states-1), 4))\n",
    "if n_states-1 == 1:\n",
    "    axes = [axes]\n",
    "\n",
    "for i in range(n_states-1):\n",
    "    axes[i].hist(tau_samples[:, i], bins=50, alpha=0.7, density=True)\n",
    "    axes[i].axvline(tau_mean[i], color='red', linestyle='-', label=f'Mean: {tau_mean[i]:.1f}')\n",
    "    axes[i].axvline(true_changepoints[i], color='green', linestyle='--', label=f'True: {true_changepoints[i]:.1f}')\n",
    "    axes[i].set_xlabel('Time')\n",
    "    axes[i].set_ylabel('Density')\n",
    "    axes[i].set_title(f'Changepoint {i+1} Posterior')\n",
    "    axes[i].legend()\n",
    "    axes[i].grid(True, alpha=0.3)\n",
    "\n",
    "plt.tight_layout()\n",
    "plt.show()"
   ]
  },
  {
   "cell_type": "markdown",
   "metadata": {},
   "source": [
    "## Visualize Model Fit\n",
    "\n",
    "Show the original data with inferred changepoints overlaid."
   ]
  },
  {
   "cell_type": "code",
   "execution_count": null,
   "metadata": {},
   "outputs": [],
   "source": [
    "# Plot data with inferred changepoints\n",
    "fig, axes = plt.subplots(n_dimensions, 1, figsize=(12, 2*n_dimensions), sharex=True)\n",
    "if n_dimensions == 1:\n",
    "    axes = [axes]\n",
    "\n",
    "for i in range(n_dimensions):\n",
    "    axes[i].plot(data_array[i, :], 'b-', alpha=0.7, label='Data')\n",
    "    axes[i].set_ylabel(f'Dimension {i+1}')\n",
    "    axes[i].grid(True, alpha=0.3)\n",
    "    \n",
    "    # Add inferred changepoints\n",
    "    for j, cp in enumerate(tau_mean):\n",
    "        axes[i].axvline(cp, color='red', linestyle='-', alpha=0.8, \n",
    "                       label='Inferred CP' if i == 0 and j == 0 else '')\n",
    "    \n",
    "    # Add true changepoints\n",
    "    for j, cp in enumerate(true_changepoints):\n",
    "        axes[i].axvline(cp, color='green', linestyle='--', alpha=0.5,\n",
    "                       label='True CP' if i == 0 and j == 0 else '')\n",
    "\n",
    "axes[0].legend()\n",
    "axes[-1].set_xlabel('Time')\n",
    "plt.suptitle('Model Fit Results\\n(Red: Inferred, Green: True Changepoints)', fontsize=14)\n",
    "plt.tight_layout()\n",
    "plt.show()"
   ]
  },
  {
   "cell_type": "markdown",
   "metadata": {},
   "source": [
    "## Model Parameters\n",
    "\n",
    "Examine the inferred mean and variance parameters for each state."
   ]
  },
  {
   "cell_type": "code",
   "execution_count": null,
   "metadata": {},
   "outputs": [],
   "source": [
    "# Extract mean and sigma parameters\n",
    "mu_samples = trace.posterior['mu'].values.reshape(-1, n_dimensions, n_states)\n",
    "sigma_samples = trace.posterior['sigma'].values.reshape(-1, n_dimensions, n_states)\n",
    "\n",
    "mu_mean = np.mean(mu_samples, axis=0)\n",
    "sigma_mean = np.mean(sigma_samples, axis=0)\n",
    "\n",
    "print(\"Inferred Parameters by State:\")\n",
    "for state in range(n_states):\n",
    "    print(f\"\\nState {state + 1}:\")\n",
    "    for dim in range(n_dimensions):\n",
    "        print(f\"  Dimension {dim + 1}: μ = {mu_mean[dim, state]:.3f}, σ = {sigma_mean[dim, state]:.3f}\")"
   ]
  },
  {
   "cell_type": "code",
   "execution_count": null,
   "metadata": {},
   "outputs": [],
   "source": [
    "# Plot parameter evolution across states\n",
    "fig, (ax1, ax2) = plt.subplots(1, 2, figsize=(12, 5))\n",
    "\n",
    "# Mean parameters\n",
    "for dim in range(n_dimensions):\n",
    "    ax1.plot(range(1, n_states+1), mu_mean[dim, :], 'o-', label=f'Dim {dim+1}')\n",
    "ax1.set_xlabel('State')\n",
    "ax1.set_ylabel('Mean (μ)')\n",
    "ax1.set_title('Mean Parameters by State')\n",
    "ax1.legend()\n",
    "ax1.grid(True, alpha=0.3)\n",
    "\n",
    "# Variance parameters\n",
    "for dim in range(n_dimensions):\n",
    "    ax2.plot(range(1, n_states+1), sigma_mean[dim, :], 's-', label=f'Dim {dim+1}')\n",
    "ax2.set_xlabel('State')\n",
    "ax2.set_ylabel('Standard Deviation (σ)')\n",
    "ax2.set_title('Variance Parameters by State')\n",
    "ax2.legend()\n",
    "ax2.grid(True, alpha=0.3)\n",
    "\n",
    "plt.tight_layout()\n",
    "plt.show()"
   ]
  },
  {
   "cell_type": "markdown",
   "metadata": {},
   "source": [
    "## Summary\n",
    "\n",
    "This notebook demonstrated the `GaussianChangepointMeanVar2D` model:\n",
    "\n",
    "1. **Data Generation**: Created synthetic Gaussian data with known changepoints\n",
    "2. **Model Fitting**: Used variational inference to fit the model\n",
    "3. **Results Analysis**: Extracted and visualized changepoint estimates\n",
    "4. **Parameter Inspection**: Examined mean and variance parameters for each state\n",
    "\n",
    "The model successfully detected changepoints in Gaussian data where both mean and variance can change across different states."
   ]
  }
 ],
 "metadata": {
  "kernelspec": {
   "display_name": "Python 3",
   "language": "python",
   "name": "python3"
  },
  "language_info": {
   "codemirror_mode": {
    "name": "ipython",
    "version": 3
   },
   "file_extension": ".py",
   "mimetype": "text/x-python",
   "name": "python",
   "nbconvert_exporter": "python",
   "pygments_lexer": "ipython3",
   "version": "3.8.5"
  }
 },
 "nbformat": 4,
 "nbformat_minor": 4
}