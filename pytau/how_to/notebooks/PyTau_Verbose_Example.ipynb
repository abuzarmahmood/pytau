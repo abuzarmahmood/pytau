{
    "cells": [
        {
            "cell_type": "markdown",
            "metadata": {},
            "source": [
                "# PyTau Verbose Functionality\n",
                "\n",
                "This notebook demonstrates the verbose functionality in PyTau that provides detailed progress information during model initialization, fitting, and prediction.\n",
                "\n",
                "## Key Features\n",
                "- **Global verbose setting**: Control verbosity for all PyTau operations\n",
                "- **Instance-specific verbose**: Override global setting for individual models\n",
                "- **Context manager**: Temporarily change verbose setting\n",
                "- **Detailed progress tracking**: See what's happening during model operations"
            ]
        },
        {
            "cell_type": "code",
            "execution_count": null,
            "metadata": {},
            "outputs": [],
            "source": [
                "import numpy as np\n",
                "import matplotlib.pyplot as plt\n",
                "import sys\n",
                "import os\n",
                "\n",
                "# Add pytau to path\n",
                "sys.path.append('../../')\n",
                "\n",
                "from pytau import (\n",
                "    ChangepointDetector, \n",
                "    fit_changepoint_model,\n",
                "    set_verbose, \n",
                "    get_verbose, \n",
                "    verbose_context,\n",
                "    reset_config\n",
                ")"
            ]
        },
        {
            "cell_type": "markdown",
            "metadata": {},
            "source": [
                "## Global Verbose Settings\n",
                "\n",
                "PyTau provides global verbose control that affects all operations."
            ]
        },
        {
            "cell_type": "code",
            "execution_count": null,
            "metadata": {},
            "outputs": [],
            "source": [
                "# Check default verbose setting\n",
                "print(f\"Default verbose setting: {get_verbose()}\")\n",
                "\n",
                "# Enable verbose output globally\n",
                "set_verbose(True)\n",
                "print(f\"After set_verbose(True): {get_verbose()}\")\n",
                "\n",
                "# Disable verbose output\n",
                "set_verbose(False)\n",
                "print(f\"After set_verbose(False): {get_verbose()}\")\n",
                "\n",
                "# Verbose setting accepts various formats\n",
                "set_verbose('on')   # String values\n",
                "print(f\"After set_verbose('on'): {get_verbose()}\")\n",
                "\n",
                "set_verbose(0)      # Integer values (0=False, non-zero=True)\n",
                "print(f\"After set_verbose(0): {get_verbose()}\")"
            ]
        },
        {
            "cell_type": "markdown",
            "metadata": {},
            "source": [
                "## Generate Test Data"
            ]
        },
        {
            "cell_type": "code",
            "execution_count": null,
            "metadata": {},
            "outputs": [],
            "source": [
                "# Generate synthetic spike data for testing\n",
                "np.random.seed(42)\n",
                "n_trials = 15\n",
                "n_neurons = 5\n",
                "n_timepoints = 60\n",
                "true_changepoint = 30\n",
                "\n",
                "spike_data = np.zeros((n_trials, n_neurons, n_timepoints))\n",
                "\n",
                "for trial in range(n_trials):\n",
                "    for neuron in range(n_neurons):\n",
                "        # State 1: Low firing rate\n",
                "        spike_data[trial, neuron, :true_changepoint] = np.random.poisson(\n",
                "            1.5, size=true_changepoint\n",
                "        )\n",
                "        # State 2: High firing rate\n",
                "        spike_data[trial, neuron, true_changepoint:] = np.random.poisson(\n",
                "            4.0, size=n_timepoints - true_changepoint\n",
                "        )\n",
                "\n",
                "print(f\"Generated spike data shape: {spike_data.shape}\")\n",
                "print(f\"True changepoint: {true_changepoint}\")"
            ]
        },
        {
            "cell_type": "markdown",
            "metadata": {},
            "source": [
                "## Demonstration 1: Global Verbose ON"
            ]
        },
        {
            "cell_type": "code",
            "execution_count": null,
            "metadata": {},
            "outputs": [],
            "source": [
                "# Enable global verbose to see detailed output\n",
                "set_verbose(True)\n",
                "print(\"=== Global Verbose ON ===\")\n",
                "\n",
                "# Create and fit model - you'll see detailed progress\n",
                "detector1 = ChangepointDetector(\n",
                "    model_type='single_taste_poisson',\n",
                "    n_states=2,\n",
                "    n_iterations=100,  # Small number for demo\n",
                "    random_state=42\n",
                ")\n",
                "\n",
                "print(\"\\n--- Fitting Model ---\")\n",
                "detector1.fit(spike_data)\n",
                "\n",
                "print(\"\\n--- Making Predictions ---\")\n",
                "predictions1 = detector1.predict()\n",
                "\n",
                "if 'changepoints' in predictions1:\n",
                "    estimated_cp = predictions1['changepoints'][0]\n",
                "    print(f\"\\nEstimated changepoint: {estimated_cp:.1f}\")\n",
                "    print(f\"True changepoint: {true_changepoint}\")\n",
                "    print(f\"Error: {abs(estimated_cp - true_changepoint):.1f}\")"
            ]
        },
        {
            "cell_type": "markdown",
            "metadata": {},
            "source": [
                "## Demonstration 2: Global Verbose OFF, Instance Verbose ON"
            ]
        },
        {
            "cell_type": "code",
            "execution_count": null,
            "metadata": {},
            "outputs": [],
            "source": [
                "# Disable global verbose\n",
                "set_verbose(False)\n",
                "print(\"=== Global Verbose OFF, Instance Verbose ON ===\")\n",
                "\n",
                "# Create model with instance-specific verbose=True\n",
                "detector2 = ChangepointDetector(\n",
                "    model_type='single_taste_poisson',\n",
                "    n_states=2,\n",
                "    n_iterations=100,\n",
                "    random_state=42,\n",
                "    verbose=True  # Override global setting\n",
                ")\n",
                "\n",
                "print(\"\\n--- Fitting Model (should show verbose output) ---\")\n",
                "detector2.fit(spike_data)\n",
                "\n",
                "predictions2 = detector2.predict()"
            ]
        },
        {
            "cell_type": "markdown",
            "metadata": {},
            "source": [
                "## Demonstration 3: Global Verbose ON, Instance Verbose OFF"
            ]
        },
        {
            "cell_type": "code",
            "execution_count": null,
            "metadata": {},
            "outputs": [],
            "source": [
                "# Enable global verbose\n",
                "set_verbose(True)\n",
                "print(\"=== Global Verbose ON, Instance Verbose OFF ===\")\n",
                "\n",
                "# Create model with instance-specific verbose=False\n",
                "detector3 = ChangepointDetector(\n",
                "    model_type='single_taste_poisson',\n",
                "    n_states=2,\n",
                "    n_iterations=100,\n",
                "    random_state=42,\n",
                "    verbose=False  # Override global setting\n",
                ")\n",
                "\n",
                "print(\"\\n--- Fitting Model (should be quiet) ---\")\n",
                "detector3.fit(spike_data)\n",
                "print(\"Model fitted silently!\")\n",
                "\n",
                "predictions3 = detector3.predict()"
            ]
        },
        {
            "cell_type": "markdown",
            "metadata": {},
            "source": [
                "## Demonstration 4: Context Manager"
            ]
        },
        {
            "cell_type": "code",
            "execution_count": null,
            "metadata": {},
            "outputs": [],
            "source": [
                "# Set global verbose to False\n",
                "set_verbose(False)\n",
                "print(\"=== Context Manager Demo ===\")\n",
                "print(f\"Global verbose before context: {get_verbose()}\")\n",
                "\n",
                "# Use context manager to temporarily enable verbose\n",
                "with verbose_context(True):\n",
                "    print(f\"Verbose inside context: {get_verbose()}\")\n",
                "    \n",
                "    # Operations inside context will be verbose\n",
                "    detector4 = ChangepointDetector(\n",
                "        model_type='single_taste_poisson',\n",
                "        n_states=2,\n",
                "        n_iterations=50,\n",
                "        random_state=42\n",
                "    )\n",
                "\n",
                "print(f\"Global verbose after context: {get_verbose()}\")\n",
                "print(\"Context manager restored original setting!\")"
            ]
        },
        {
            "cell_type": "markdown",
            "metadata": {},
            "source": [
                "## Demonstration 5: Convenience Function with Verbose"
            ]
        },
        {
            "cell_type": "code",
            "execution_count": null,
            "metadata": {},
            "outputs": [],
            "source": [
                "# Test convenience function with verbose parameter\n",
                "set_verbose(False)  # Global off\n",
                "print(\"=== Convenience Function with Verbose ===\")\n",
                "\n",
                "# Use convenience function with verbose=True\n",
                "detector5 = fit_changepoint_model(\n",
                "    spike_data,\n",
                "    model_type='single_taste_poisson',\n",
                "    n_states=2,\n",
                "    n_iterations=50,\n",
                "    verbose=True,  # Enable verbose for this operation\n",
                "    random_state=42\n",
                ")\n",
                "\n",
                "predictions5 = detector5.predict()\n",
                "print(\"\\nConvenience function completed!\")"
            ]
        },
        {
            "cell_type": "markdown",
            "metadata": {},
            "source": [
                "## Parameter Management with Verbose"
            ]
        },
        {
            "cell_type": "code",
            "execution_count": null,
            "metadata": {},
            "outputs": [],
            "source": [
                "# Demonstrate parameter management with verbose\n",
                "set_verbose(True)\n",
                "print(\"=== Parameter Management ===\")\n",
                "\n",
                "detector = ChangepointDetector(verbose=False)\n",
                "\n",
                "# Get parameters (includes verbose)\n",
                "params = detector.get_params()\n",
                "print(f\"\\nCurrent parameters:\")\n",
                "for key, value in params.items():\n",
                "    print(f\"  {key}: {value}\")\n",
                "\n",
                "# Update parameters including verbose\n",
                "print(\"\\n--- Updating Parameters ---\")\n",
                "detector.set_params(verbose=True, n_states=3, n_iterations=200)\n",
                "\n",
                "updated_params = detector.get_params()\n",
                "print(f\"\\nUpdated parameters:\")\n",
                "for key, value in updated_params.items():\n",
                "    print(f\"  {key}: {value}\")"
            ]
        },
        {
            "cell_type": "markdown",
            "metadata": {},
            "source": [
                "## Environment Variable Control\n",
                "\n",
                "You can also control the default verbose setting using the `PYTAU_VERBOSE` environment variable:\n",
                "\n",
                "```bash\n",
                "# Enable verbose by default\n",
                "export PYTAU_VERBOSE=true\n",
                "\n",
                "# Disable verbose by default  \n",
                "export PYTAU_VERBOSE=false\n",
                "```"
            ]
        },
        {
            "cell_type": "code",
            "execution_count": null,
            "metadata": {},
            "outputs": [],
            "source": [
                "# Reset configuration to defaults\n",
                "print(\"=== Resetting Configuration ===\")\n",
                "print(f\"Before reset: {get_verbose()}\")\n",
                "\n",
                "reset_config()\n",
                "print(f\"After reset: {get_verbose()}\")\n",
                "print(\"Configuration reset to defaults!\")"
            ]
        },
        {
            "cell_type": "markdown",
            "metadata": {},
            "source": [
                "## Summary\n",
                "\n",
                "PyTau's verbose functionality provides:\n",
                "\n",
                "1. **Global Control**: `set_verbose()` and `get_verbose()` for system-wide settings\n",
                "2. **Instance Control**: `verbose` parameter in `ChangepointDetector` to override global settings\n",
                "3. **Context Manager**: `verbose_context()` for temporary verbose changes\n",
                "4. **Convenience Functions**: `verbose` parameter in `fit_changepoint_model()`\n",
                "5. **Environment Variables**: `PYTAU_VERBOSE` for default settings\n",
                "6. **Configuration Reset**: `reset_config()` to restore defaults\n",
                "\n",
                "This gives you fine-grained control over when and where you want to see detailed progress information during your changepoint detection workflows."
            ]
        }
    ],
    "metadata": {
        "kernelspec": {
            "display_name": "Python 3",
            "language": "python",
            "name": "python3"
        },
        "language_info": {
            "codemirror_mode": {
                "name": "ipython",
                "version": 3
            },
            "file_extension": ".py",
            "mimetype": "text/x-python",
            "name": "python",
            "nbconvert_exporter": "python",
            "pygments_lexer": "ipython3",
            "version": "3.8.5"
        }
    },
    "nbformat": 4,
    "nbformat_minor": 4
}
