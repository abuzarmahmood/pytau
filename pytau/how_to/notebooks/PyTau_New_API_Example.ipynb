{
 "cells": [
  {
   "cell_type": "markdown",
   "metadata": {},
   "source": [
    "# PyTau New Scikit-Learn Style API\n",
    "\n",
    "This notebook demonstrates the new scikit-learn style API for PyTau that works directly with numpy arrays instead of requiring HDF5 files.\n",
    "\n",
    "## Key Features\n",
    "- Direct numpy array input (no HDF5 required)\n",
    "- Scikit-learn style `fit()` and `predict()` methods\n",
    "- Simplified parameter handling\n",
    "- Backward compatibility maintained"
   ]
  },
  {
   "cell_type": "code",
   "execution_count": null,
   "metadata": {},
   "outputs": [],
   "source": [
    "import numpy as np\n",
    "import matplotlib.pyplot as plt\n",
    "import sys\n",
    "import os\n",
    "\n",
    "# Add pytau to path\n",
    "sys.path.append('../../')\n",
    "\n",
    "from pytau import ChangepointDetector, fit_changepoint_model"
   ]
  },
  {
   "cell_type": "markdown",
   "metadata": {},
   "source": [
    "## Generate Synthetic Data\n",
    "\n",
    "Let's create some synthetic spike data with known changepoints to test our model."
   ]
  },
  {
   "cell_type": "code",
   "execution_count": null,
   "metadata": {},
   "outputs": [],
   "source": [
    "# Set random seed for reproducibility\n",
    "np.random.seed(42)\n",
    "\n",
    "# Parameters\n",
    "n_trials = 25\n",
    "n_neurons = 8\n",
    "n_timepoints = 100\n",
    "true_changepoints = [30, 70]  # True changepoint locations\n",
    "\n",
    "# Generate synthetic data with different firing rates in each state\n",
    "spike_data = np.zeros((n_trials, n_neurons, n_timepoints))\n",
    "\n",
    "for trial in range(n_trials):\n",
    "    for neuron in range(n_neurons):\n",
    "        # State 1: Low firing rate\n",
    "        spike_data[trial, neuron, :true_changepoints[0]] = np.random.poisson(\n",
    "            1.0, size=true_changepoints[0]\n",
    "        )\n",
    "        \n",
    "        # State 2: High firing rate  \n",
    "        spike_data[trial, neuron, true_changepoints[0]:true_changepoints[1]] = np.random.poisson(\n",
    "            4.0, size=true_changepoints[1] - true_changepoints[0]\n",
    "        )\n",
    "        \n",
    "        # State 3: Medium firing rate\n",
    "        spike_data[trial, neuron, true_changepoints[1]:] = np.random.poisson(\n",
    "            2.0, size=n_timepoints - true_changepoints[1]\n",
    "        )\n",
    "\n",
    "print(f\"Generated spike data shape: {spike_data.shape}\")\n",
    "print(f\"True changepoints: {true_changepoints}\")"
   ]
  },
  {
   "cell_type": "markdown",
   "metadata": {},
   "source": [
    "## Visualize the Data"
   ]
  },
  {
   "cell_type": "code",
   "execution_count": null,
   "metadata": {},
   "outputs": [],
   "source": [
    "# Plot average firing rate across trials\n",
    "avg_firing_rate = np.mean(spike_data, axis=(0, 1))\n",
    "\n",
    "plt.figure(figsize=(12, 6))\n",
    "plt.plot(avg_firing_rate, 'b-', linewidth=2, label='Average firing rate')\n",
    "for cp in true_changepoints:\n",
    "    plt.axvline(cp, color='red', linestyle='--', alpha=0.7, label=f'True changepoint: {cp}')\n",
    "plt.xlabel('Time')\n",
    "plt.ylabel('Average Firing Rate')\n",
    "plt.title('Synthetic Spike Data with True Changepoints')\n",
    "plt.legend()\n",
    "plt.grid(True, alpha=0.3)\n",
    "plt.show()"
   ]
  },
  {
   "cell_type": "markdown",
   "metadata": {},
   "source": [
    "## Method 1: Using ChangepointDetector Class"
   ]
  },
  {
   "cell_type": "code",
   "execution_count": null,
   "metadata": {},
   "outputs": [],
   "source": [
    "# Create and configure the detector\n",
    "detector = ChangepointDetector(\n",
    "    model_type='single_taste_poisson',\n",
    "    n_states=3,  # We know there are 3 states\n",
    "    inference_method='advi',\n",
    "    n_iterations=5000,\n",
    "    random_state=42\n",
    ")\n",
    "\n",
    "print(\"Fitting changepoint model...\")\n",
    "detector.fit(spike_data)\n",
    "print(\"Model fitted successfully!\")"
   ]
  },
  {
   "cell_type": "code",
   "execution_count": null,
   "metadata": {},
   "outputs": [],
   "source": [
    "# Get predictions\n",
    "predictions = detector.predict()\n",
    "\n",
    "print(\"Predictions:\")\n",
    "for key, value in predictions.items():\n",
    "    if isinstance(value, np.ndarray):\n",
    "        print(f\"{key}: shape {value.shape}\")\n",
    "        if key == 'changepoints':\n",
    "            print(f\"  Estimated changepoints: {value}\")\n",
    "            print(f\"  True changepoints: {true_changepoints}\")\n",
    "            print(f\"  Error: {np.abs(value - true_changepoints)}\")"
   ]
  },
  {
   "cell_type": "markdown",
   "metadata": {},
   "source": [
    "## Method 2: Using Convenience Function"
   ]
  },
  {
   "cell_type": "code",
   "execution_count": null,
   "metadata": {},
   "outputs": [],
   "source": [
    "# Alternative: Use convenience function for quick fitting\n",
    "print(\"Fitting model using convenience function...\")\n",
    "quick_detector = fit_changepoint_model(\n",
    "    spike_data,\n",
    "    model_type='single_taste_poisson',\n",
    "    n_states=3,\n",
    "    n_iterations=3000,\n",
    "    random_state=42\n",
    ")\n",
    "\n",
    "quick_predictions = quick_detector.predict()\n",
    "print(f\"Quick fit changepoints: {quick_predictions['changepoints']}\")"
   ]
  },
  {
   "cell_type": "markdown",
   "metadata": {},
   "source": [
    "## Visualize Results"
   ]
  },
  {
   "cell_type": "code",
   "execution_count": null,
   "metadata": {},
   "outputs": [],
   "source": [
    "# Plot results\n",
    "plt.figure(figsize=(15, 8))\n",
    "\n",
    "# Plot 1: Data and changepoints\n",
    "plt.subplot(2, 1, 1)\n",
    "plt.plot(avg_firing_rate, 'b-', linewidth=2, label='Average firing rate')\n",
    "\n",
    "# True changepoints\n",
    "for i, cp in enumerate(true_changepoints):\n",
    "    plt.axvline(cp, color='red', linestyle='--', alpha=0.7, \n",
    "                label='True changepoint' if i == 0 else '')\n",
    "\n",
    "# Estimated changepoints\n",
    "if 'changepoints' in predictions:\n",
    "    for i, cp in enumerate(predictions['changepoints']):\n",
    "        plt.axvline(cp, color='green', linestyle='-', alpha=0.7,\n",
    "                    label='Estimated changepoint' if i == 0 else '')\n",
    "\n",
    "plt.xlabel('Time')\n",
    "plt.ylabel('Firing Rate')\n",
    "plt.title('Changepoint Detection Results')\n",
    "plt.legend()\n",
    "plt.grid(True, alpha=0.3)\n",
    "\n",
    "# Plot 2: State sequence\n",
    "plt.subplot(2, 1, 2)\n",
    "if 'states' in predictions:\n",
    "    plt.plot(predictions['states'], 'g-', linewidth=2, label='Predicted states')\n",
    "    plt.ylabel('State')\n",
    "    plt.xlabel('Time')\n",
    "    plt.title('Predicted State Sequence')\n",
    "    plt.grid(True, alpha=0.3)\n",
    "\n",
    "plt.tight_layout()\n",
    "plt.show()"
   ]
  },
  {
   "cell_type": "markdown",
   "metadata": {},
   "source": [
    "## Model Comparison\n",
    "\n",
    "Let's compare different model types on the same data."
   ]
  },
  {
   "cell_type": "code",
   "execution_count": null,
   "metadata": {},
   "outputs": [],
   "source": [
    "# Compare different model types\n",
    "model_types = ['single_taste_poisson', 'single_taste_poisson_varsig']\n",
    "results = {}\n",
    "\n",
    "for model_type in model_types:\n",
    "    print(f\"\\nFitting {model_type}...\")\n",
    "    try:\n",
    "        detector = ChangepointDetector(\n",
    "            model_type=model_type,\n",
    "            n_states=3,\n",
    "            n_iterations=3000,\n",
    "            random_state=42\n",
    "        )\n",
    "        detector.fit(spike_data)\n",
    "        predictions = detector.predict()\n",
    "        \n",
    "        if 'changepoints' in predictions:\n",
    "            results[model_type] = predictions['changepoints']\n",
    "            error = np.mean(np.abs(predictions['changepoints'] - true_changepoints))\n",
    "            print(f\"  Estimated changepoints: {predictions['changepoints']}\")\n",
    "            print(f\"  Mean absolute error: {error:.2f}\")\n",
    "        else:\n",
    "            print(f\"  No changepoints found in predictions\")\n",
    "            \n",
    "    except Exception as e:\n",
    "        print(f\"  Error fitting {model_type}: {e}\")\n",
    "\n",
    "print(f\"\\nTrue changepoints: {true_changepoints}\")"
   ]
  },
  {
   "cell_type": "markdown",
   "metadata": {},
   "source": [
    "## Parameter Exploration\n",
    "\n",
    "Demonstrate scikit-learn style parameter getting and setting."
   ]
  },
  {
   "cell_type": "code",
   "execution_count": null,
   "metadata": {},
   "outputs": [],
   "source": [
    "# Create detector\n",
    "detector = ChangepointDetector()\n",
    "\n",
    "# Get current parameters\n",
    "params = detector.get_params()\n",
    "print(\"Default parameters:\")\n",
    "for key, value in params.items():\n",
    "    print(f\"  {key}: {value}\")\n",
    "\n",
    "# Update parameters\n",
    "detector.set_params(n_states=4, n_iterations=2000)\n",
    "print(\"\\nUpdated parameters:\")\n",
    "updated_params = detector.get_params()\n",
    "for key, value in updated_params.items():\n",
    "    print(f\"  {key}: {value}\")"
   ]
  },
  {
   "cell_type": "markdown",
   "metadata": {},
   "source": [
    "## Summary\n",
    "\n",
    "The new PyTau API provides:\n",
    "\n",
    "1. **Simple Interface**: Just pass numpy arrays directly to `fit()` and `predict()`\n",
    "2. **Scikit-learn Compatibility**: Familiar methods like `get_params()`, `set_params()`, `score()`\n",
    "3. **No HDF5 Dependency**: Works with any numpy array data\n",
    "4. **Flexible Models**: Support for multiple changepoint model types\n",
    "5. **Backward Compatibility**: Original API still available\n",
    "\n",
    "This makes PyTau much easier to use for researchers who want to apply changepoint detection to their neural data without dealing with complex file formats or preprocessing pipelines."
   ]
  }
 ],
 "metadata": {
  "kernelspec": {
   "display_name": "Python 3",
   "language": "python",
   "name": "python3"
  },
  "language_info": {
   "codemirror_mode": {
    "name": "ipython",
    "version": 3
   },
   "file_extension": ".py",
   "mimetype": "text/x-python",
   "name": "python",
   "nbconvert_exporter": "python",
   "pygments_lexer": "ipython3",
   "version": "3.8.5"
  }
 },
 "nbformat": 4,
 "nbformat_minor": 4
}